{
 "cells": [
  {
   "cell_type": "markdown",
   "id": "294e18de",
   "metadata": {},
   "source": [
    "<H1 align=\"center\">\n",
    "    Python For Engineers - Tutorial 2\n",
    "</H1>\n",
    "\n",
    "<H1 align=\"center\">\n",
    "    By Fardin Ahsan\n",
    "</H1>\n",
    "\n",
    "___________________________________\n",
    "\n",
    "<H1 align=\"center\">\n",
    "Intermediate Python\n",
    "</H1>\n",
    "\n",
    "\n",
    "This tutorial covers intermediate topics in python, A thorough understanding of the topics covered in the previous tutorial wil help.\n",
    "\n",
    "Note: This tutorial is not even the tip of the iceberg. For a real comprehensive tutorial visit the official python tutorial.\n",
    "https://docs.python.org/3/tutorial/index.html\n",
    "\n",
    "______________________________________\n"
   ]
  },
  {
   "cell_type": "markdown",
   "id": "1848aae4",
   "metadata": {},
   "source": [
    "## Writing compact code."
   ]
  },
  {
   "cell_type": "markdown",
   "id": "fbbb1614",
   "metadata": {},
   "source": [
    "There are features in python that allow code to be written more compactly, The two main expressions are called comprehension statements and ternary operators. They make your code cleaner and more pythonic. "
   ]
  },
  {
   "cell_type": "markdown",
   "id": "26269bb7",
   "metadata": {},
   "source": [
    "### Comprehension statements"
   ]
  },
  {
   "cell_type": "markdown",
   "id": "302a5bb6",
   "metadata": {},
   "source": [
    "Comprehension statements are one line loops. They can be free or within collections.\n",
    "\n",
    "They are similarly structured to math mathematical sets.\n",
    "\n",
    "For example the set ;\n",
    "*{ x | ∀  x ∈ [1,11) }*\n",
    "\n",
    "Can be written as `[x for x in range(1,11)]`"
   ]
  },
  {
   "cell_type": "code",
   "execution_count": 1,
   "id": "c6730ffc",
   "metadata": {},
   "outputs": [
    {
     "data": {
      "text/plain": [
       "[1, 2, 3, 4, 5, 6, 7, 8, 9, 10]"
      ]
     },
     "execution_count": 1,
     "metadata": {},
     "output_type": "execute_result"
    }
   ],
   "source": [
    "'''\n",
    "Suppose I try to create a list containing the numbers 1-10,\n",
    "This is how you would do it traditionally.\n",
    "\n",
    "'''\n",
    "one_ten_list = []\n",
    "for x in range(1,11):\n",
    "    one_ten_list.append(x)\n",
    "    \n",
    "one_ten_list"
   ]
  },
  {
   "cell_type": "code",
   "execution_count": 2,
   "id": "b753239f",
   "metadata": {},
   "outputs": [
    {
     "data": {
      "text/plain": [
       "[1, 2, 3, 4, 5, 6, 7, 8, 9, 10]"
      ]
     },
     "execution_count": 2,
     "metadata": {},
     "output_type": "execute_result"
    }
   ],
   "source": [
    "# The same thing can be done in one line with a comprehension statement\n",
    "\n",
    "one_ten_list_comp = [x for x in range(1,11)]\n",
    "one_ten_list_comp"
   ]
  },
  {
   "cell_type": "code",
   "execution_count": 3,
   "id": "217b8700",
   "metadata": {},
   "outputs": [
    {
     "name": "stdout",
     "output_type": "stream",
     "text": [
      "Set comprehension = {1, 2, 3, 4, 5, 6, 7, 8, 9, 10}.\n",
      "Dict comprehension = {'1': 1, '2': 2, '3': 3, '4': 4, '5': 5, '6': 6, '7': 7, '8': 8, '9': 9, '10': 10}.\n"
     ]
    }
   ],
   "source": [
    "# Comprehension statements work with other iterables as well.\n",
    "\n",
    "set_comp = {x for x in range(1,11)}\n",
    "dict_comp = {str(x):x for x in range(1,11)} # This dictionary has strings as keys and ints as values\n",
    "\n",
    "print(f'Set comprehension = {set_comp}.')\n",
    "print(f'Dict comprehension = {dict_comp}.')"
   ]
  },
  {
   "cell_type": "code",
   "execution_count": 4,
   "id": "787c8ed9",
   "metadata": {},
   "outputs": [
    {
     "data": {
      "text/plain": [
       "[2, 4, 6, 8, 10]"
      ]
     },
     "execution_count": 4,
     "metadata": {},
     "output_type": "execute_result"
    }
   ],
   "source": [
    "# Comprehension statements work with conditionals as well. Syntax is to place it after the for loop.\n",
    "evens = [x for x in range(1,11) if x % 2 == 0]\n",
    "\n",
    "evens"
   ]
  },
  {
   "cell_type": "code",
   "execution_count": 5,
   "id": "b82c95e3",
   "metadata": {},
   "outputs": [
    {
     "data": {
      "text/plain": [
       "30"
      ]
     },
     "execution_count": 5,
     "metadata": {},
     "output_type": "execute_result"
    }
   ],
   "source": [
    "# Comprehension statements can work in functions too, these are called generator operators.\n",
    "# Suppose I want to sum up for even numbers from 1-10.\n",
    "\n",
    "sum(num for num in range(1,11) if num % 2 == 0)"
   ]
  },
  {
   "cell_type": "markdown",
   "id": "855d87f7",
   "metadata": {},
   "source": [
    "### Ternary operators"
   ]
  },
  {
   "cell_type": "markdown",
   "id": "0016b2b2",
   "metadata": {},
   "source": [
    "Ternary operators are variables with conditionals on them.\n",
    "\n",
    "Syntax is;\n",
    "\n",
    "`variable = something if conditional else something_else`"
   ]
  },
  {
   "cell_type": "code",
   "execution_count": 6,
   "id": "267a8508",
   "metadata": {},
   "outputs": [
    {
     "data": {
      "text/plain": [
       "'THIS IS A SENTENCE.'"
      ]
     },
     "execution_count": 6,
     "metadata": {},
     "output_type": "execute_result"
    }
   ],
   "source": [
    "'''\n",
    "Lets write a program to turn a string upper case or lower case depending on a boolean variable.\n",
    "\n",
    "Notice how this is much less lines of code than using a conditional block.\n",
    "\n",
    "'''\n",
    "upper = True\n",
    "string = 'This is a sentence.'\n",
    "\n",
    "case_ternary = string.upper() if upper else string.lower()\n",
    "\n",
    "case_ternary"
   ]
  },
  {
   "cell_type": "markdown",
   "id": "4674f9e8",
   "metadata": {},
   "source": [
    "<H1>\n",
    "____________________________________________________\n",
    "\n",
    "</H1>"
   ]
  },
  {
   "cell_type": "markdown",
   "id": "417f0074",
   "metadata": {},
   "source": [
    "## Reading and writing files."
   ]
  },
  {
   "cell_type": "markdown",
   "id": "f61de48f",
   "metadata": {},
   "source": [
    "### Reading a file"
   ]
  },
  {
   "cell_type": "markdown",
   "id": "1c39dff9",
   "metadata": {},
   "source": [
    "For a more detailed explanation: https://realpython.com/read-write-files-python/"
   ]
  },
  {
   "cell_type": "markdown",
   "id": "1ce53646",
   "metadata": {},
   "source": [
    "Reading and writing files is fundamental to programming, given that you can't do much if all the program interacts with is itself. \n",
    "\n"
   ]
  },
  {
   "cell_type": "code",
   "execution_count": 7,
   "id": "acecb4de",
   "metadata": {},
   "outputs": [
    {
     "data": {
      "text/plain": [
       "['Pug\\n',\n",
       " 'Jack Russell Terrier\\n',\n",
       " 'English Springer Spaniel\\n',\n",
       " 'German Shepherd\\n',\n",
       " 'Staffordshire Bull Terrier\\n',\n",
       " 'Cavalier King Charles Spaniel\\n',\n",
       " 'Golden Retriever\\n',\n",
       " 'West Highland White Terrier\\n',\n",
       " 'Boxer\\n',\n",
       " 'Border Terrier']"
      ]
     },
     "execution_count": 7,
     "metadata": {},
     "output_type": "execute_result"
    }
   ],
   "source": [
    "# Using the with context manager you can read a file.\n",
    "# The context manager does all the work for you. \n",
    "with open('dog_breeds.txt', 'r') as reader:\n",
    "    dogs_list = reader.readlines()\n",
    "\n",
    "dogs_list"
   ]
  },
  {
   "cell_type": "markdown",
   "id": "155ae761",
   "metadata": {},
   "source": [
    "As we can see every string in the list has a new line character (\\n) because thats how it is stored in the text file. \n",
    "\n",
    "Removing it is trivial but you would just want to watch out for that."
   ]
  },
  {
   "cell_type": "markdown",
   "id": "86db6a5f",
   "metadata": {},
   "source": [
    "### Writing to a file"
   ]
  },
  {
   "cell_type": "code",
   "execution_count": 8,
   "id": "642af49b",
   "metadata": {},
   "outputs": [],
   "source": [
    "# Lets write a new file with dog names but all capital.\n",
    "with open('dog_breeds_capitalized.txt', 'w') as writer:\n",
    "    for line in dogs_list:\n",
    "        writer.write(line.upper())"
   ]
  },
  {
   "cell_type": "markdown",
   "id": "1bc6715d",
   "metadata": {},
   "source": [
    "### Lets see if that worked."
   ]
  },
  {
   "cell_type": "code",
   "execution_count": 9,
   "id": "066a8d41",
   "metadata": {},
   "outputs": [
    {
     "data": {
      "text/plain": [
       "['PUG\\n',\n",
       " 'JACK RUSSELL TERRIER\\n',\n",
       " 'ENGLISH SPRINGER SPANIEL\\n',\n",
       " 'GERMAN SHEPHERD\\n',\n",
       " 'STAFFORDSHIRE BULL TERRIER\\n',\n",
       " 'CAVALIER KING CHARLES SPANIEL\\n',\n",
       " 'GOLDEN RETRIEVER\\n',\n",
       " 'WEST HIGHLAND WHITE TERRIER\\n',\n",
       " 'BOXER\\n',\n",
       " 'BORDER TERRIER']"
      ]
     },
     "execution_count": 9,
     "metadata": {},
     "output_type": "execute_result"
    }
   ],
   "source": [
    "with open('dog_breeds_capitalized.txt', 'r') as reader_cap:\n",
    "    dogs_list_cap = reader_cap.readlines()\n",
    "\n",
    "dogs_list_cap"
   ]
  },
  {
   "cell_type": "markdown",
   "id": "b41e70ce",
   "metadata": {},
   "source": [
    "<H1>\n",
    "____________________________________________________\n",
    "\n",
    "</H1>"
   ]
  },
  {
   "cell_type": "markdown",
   "id": "de5bacd9",
   "metadata": {},
   "source": [
    "## Managing/Manipulating directories with the os library."
   ]
  },
  {
   "cell_type": "code",
   "execution_count": 10,
   "id": "7c797b4a",
   "metadata": {},
   "outputs": [],
   "source": [
    "import os"
   ]
  },
  {
   "cell_type": "markdown",
   "id": "6eb00386",
   "metadata": {},
   "source": [
    "When you are working with a big project you wouldn't want to have all your files in the same directory, that would make it a nightmare to work with, so you would split up the directory into subdirectories to keep your project structure clean.\n",
    "\n",
    "You can do this using the OS module.\n",
    "\n",
    "You can do a lot of other things, that are often DANGEROUS with the os module, so you need to be careful with that."
   ]
  },
  {
   "cell_type": "markdown",
   "id": "7ae7a211",
   "metadata": {},
   "source": [
    "### Lets view the current working directory"
   ]
  },
  {
   "cell_type": "code",
   "execution_count": 11,
   "id": "30bbaa3d",
   "metadata": {},
   "outputs": [
    {
     "data": {
      "text/plain": [
       "'C:\\\\Users\\\\Fardin\\\\Desktop\\\\Projects\\\\RIT AI lectures\\\\week_2'"
      ]
     },
     "execution_count": 11,
     "metadata": {},
     "output_type": "execute_result"
    }
   ],
   "source": [
    "os.getcwd()"
   ]
  },
  {
   "cell_type": "code",
   "execution_count": 12,
   "id": "49c42079",
   "metadata": {},
   "outputs": [
    {
     "data": {
      "text/plain": [
       "['.ipynb_checkpoints',\n",
       " 'dog_breeds.txt',\n",
       " 'dog_breeds_capitalized.txt',\n",
       " 'files.PNG',\n",
       " 'python_intermediate.ipynb',\n",
       " 'rename_examples']"
      ]
     },
     "execution_count": 12,
     "metadata": {},
     "output_type": "execute_result"
    }
   ],
   "source": [
    "os.listdir()"
   ]
  },
  {
   "cell_type": "markdown",
   "id": "6b445c0a",
   "metadata": {},
   "source": [
    "### Lets access one of the subfolders"
   ]
  },
  {
   "cell_type": "code",
   "execution_count": 13,
   "id": "a99d78ff",
   "metadata": {},
   "outputs": [
    {
     "data": {
      "text/plain": [
       "'C:\\\\Users\\\\Fardin\\\\Desktop\\\\Projects\\\\RIT AI lectures\\\\week_2\\\\rename_examples'"
      ]
     },
     "execution_count": 13,
     "metadata": {},
     "output_type": "execute_result"
    }
   ],
   "source": [
    "# This is called the Absolute path.\n",
    "path = os.getcwd() + '\\\\rename_examples'\n",
    "path"
   ]
  },
  {
   "cell_type": "code",
   "execution_count": 14,
   "id": "ae03c711",
   "metadata": {},
   "outputs": [
    {
     "data": {
      "text/plain": [
       "['file_1.txt', 'file_2.txt', 'file_3.txt']"
      ]
     },
     "execution_count": 14,
     "metadata": {},
     "output_type": "execute_result"
    }
   ],
   "source": [
    "os.listdir(path)"
   ]
  },
  {
   "cell_type": "markdown",
   "id": "2a69bb58",
   "metadata": {},
   "source": [
    "<img src='files.PNG'>"
   ]
  },
  {
   "cell_type": "markdown",
   "id": "9c6fea20",
   "metadata": {},
   "source": [
    "<H1>\n",
    "____________________________________________________\n",
    "\n",
    "</H1>"
   ]
  },
  {
   "cell_type": "markdown",
   "id": "eebcb5b0",
   "metadata": {},
   "source": [
    "## Generators"
   ]
  },
  {
   "cell_type": "markdown",
   "id": "57682acf",
   "metadata": {},
   "source": [
    "Some recursive functions are very memory intensive, generator statements are functions where the previous recursed values are held in memory. This makes the code run a lot faster especially when you are working with large files such as videos.\n",
    "\n",
    "Almost all functions in computer vision and image processing are generators. As obviously, images have a large memory footprint."
   ]
  },
  {
   "cell_type": "code",
   "execution_count": 15,
   "id": "e1c3e057",
   "metadata": {},
   "outputs": [
    {
     "name": "stdout",
     "output_type": "stream",
     "text": [
      "0\n",
      "1\n",
      "1\n",
      "2\n",
      "3\n",
      "5\n",
      "8\n",
      "13\n",
      "21\n",
      "34\n",
      "55\n",
      "89\n",
      "144\n",
      "233\n",
      "377\n",
      "610\n",
      "987\n",
      "1597\n",
      "2584\n",
      "4181\n"
     ]
    }
   ],
   "source": [
    "# Fibonacci recursive style\n",
    "def fib_func(n):\n",
    "    if n == 0 or n == 1:\n",
    "        return n\n",
    "    else:\n",
    "        return fib_func(n-1) + fib_func(n-2)\n",
    "\n",
    "for x in range(20):\n",
    "    print(fib_func(x))"
   ]
  },
  {
   "cell_type": "markdown",
   "id": "5af8ff71",
   "metadata": {},
   "source": [
    "### Lets see how long this takes."
   ]
  },
  {
   "cell_type": "code",
   "execution_count": 16,
   "id": "b57aa5f9",
   "metadata": {},
   "outputs": [
    {
     "name": "stdout",
     "output_type": "stream",
     "text": [
      "54.6 µs ± 617 ns per loop (mean ± std. dev. of 7 runs, 10000 loops each)\n"
     ]
    }
   ],
   "source": [
    "%%timeit\n",
    "\n",
    "for x in range(10):\n",
    "    fib_func(x)"
   ]
  },
  {
   "cell_type": "markdown",
   "id": "ac5e79db",
   "metadata": {},
   "source": [
    "### Same thing with a generator."
   ]
  },
  {
   "cell_type": "code",
   "execution_count": 17,
   "id": "e948e530",
   "metadata": {},
   "outputs": [],
   "source": [
    "def fib_gen(n):\n",
    "    if n == 0 or n == 1:\n",
    "        yield n\n",
    "    else:\n",
    "        yield fib_gen(n-1) + fib_gen(n-2)"
   ]
  },
  {
   "cell_type": "code",
   "execution_count": 18,
   "id": "c7821f4b",
   "metadata": {},
   "outputs": [
    {
     "name": "stdout",
     "output_type": "stream",
     "text": [
      "3.57 µs ± 20.2 ns per loop (mean ± std. dev. of 7 runs, 100000 loops each)\n"
     ]
    }
   ],
   "source": [
    "%%timeit\n",
    "\n",
    "for x in range(10):\n",
    "    fib_gen(x)"
   ]
  },
  {
   "cell_type": "markdown",
   "id": "5a475b2b",
   "metadata": {},
   "source": [
    "#### Much faster! Because the recursive function does not have to run in O(n!) time, the previously recursed values are stored in memory. Note how 100,000 loops were ran instead of 10,000 and its still much faster.\n",
    "\n",
    "Also note: The %%timeit command is a 'magic' command that is specific to jupyter notebook shells, for .py files you will have to make your own functions (hint: decorators). "
   ]
  },
  {
   "cell_type": "markdown",
   "id": "d83c62ff",
   "metadata": {},
   "source": [
    "<H1>\n",
    "____________________________________________________\n",
    "\n",
    "</H1>"
   ]
  },
  {
   "cell_type": "markdown",
   "id": "857af39e",
   "metadata": {},
   "source": [
    "## Functional programming"
   ]
  },
  {
   "cell_type": "markdown",
   "id": "62b8a957",
   "metadata": {},
   "source": [
    "Functional programming is a programming paradigm that relies on functions to carry out most of computation. Mostly used in scientific and mathmatical computing as opposed to obeject oriented programming which is used in software development.\n",
    "\n",
    "Much like functions in math, you can chain and compose python functions too, and they form the backbone of functional programming. \n",
    "\n",
    "Functional programming is far to broad a topic to cover in a tutorial so refer to the python documentation;\n",
    "\n",
    "https://docs.python.org/3/howto/functional.html"
   ]
  },
  {
   "cell_type": "markdown",
   "id": "8d74bae1",
   "metadata": {},
   "source": [
    "### Lambda expressions/ annonymous functions"
   ]
  },
  {
   "cell_type": "code",
   "execution_count": 19,
   "id": "7f6dfb14",
   "metadata": {},
   "outputs": [
    {
     "name": "stdout",
     "output_type": "stream",
     "text": [
      "3\n",
      "3\n"
     ]
    }
   ],
   "source": [
    "# Defined function\n",
    "def add(a,b):\n",
    "    return a + b\n",
    "\n",
    "add_anon = lambda a,b: a + b\n",
    "\n",
    "print(add(1,2))\n",
    "print(add_anon(1,2))"
   ]
  },
  {
   "cell_type": "markdown",
   "id": "e3a95dbb",
   "metadata": {},
   "source": [
    "On the surface they look like the same thing, which in that way it is, but you can use annonymous functions without having defined it beforehand, which comes in handy a lot."
   ]
  },
  {
   "cell_type": "code",
   "execution_count": 20,
   "id": "df4b187d",
   "metadata": {},
   "outputs": [
    {
     "data": {
      "text/plain": [
       "[(1, 5), (3, 4), (5, 6)]"
      ]
     },
     "execution_count": 20,
     "metadata": {},
     "output_type": "execute_result"
    }
   ],
   "source": [
    "# Suppose I have this list with 1x2 tuple pairs.\n",
    "cartesian = [(1,5),(3,4),(5,6)]\n",
    "cartesian"
   ]
  },
  {
   "cell_type": "code",
   "execution_count": 21,
   "id": "e9d04067",
   "metadata": {},
   "outputs": [
    {
     "data": {
      "text/plain": [
       "[(3, 4), (1, 5), (5, 6)]"
      ]
     },
     "execution_count": 21,
     "metadata": {},
     "output_type": "execute_result"
    }
   ],
   "source": [
    "# I can sort that list using a lambda expression.\n",
    "sorted(cartesian, key = lambda tup: tup[1])"
   ]
  },
  {
   "cell_type": "markdown",
   "id": "924d830d",
   "metadata": {},
   "source": [
    "### Mapping"
   ]
  },
  {
   "cell_type": "code",
   "execution_count": 22,
   "id": "c3f448ff",
   "metadata": {},
   "outputs": [
    {
     "data": {
      "text/plain": [
       "[2, 3, 4]"
      ]
     },
     "execution_count": 22,
     "metadata": {},
     "output_type": "execute_result"
    }
   ],
   "source": [
    "# Example function that adds 1.\n",
    "def add_one(number):\n",
    "    return number + 1\n",
    "\n",
    "num_list = [add_one(x) for x in (1,2,3)]\n",
    "num_list"
   ]
  },
  {
   "cell_type": "code",
   "execution_count": 23,
   "id": "617128ab",
   "metadata": {},
   "outputs": [
    {
     "data": {
      "text/plain": [
       "[2, 3, 4]"
      ]
     },
     "execution_count": 23,
     "metadata": {},
     "output_type": "execute_result"
    }
   ],
   "source": [
    "list(map(add_one,(1,2,3)))"
   ]
  },
  {
   "cell_type": "markdown",
   "id": "2ca0d57e",
   "metadata": {},
   "source": [
    "##### WARNING: Mapping, filtering and reducing are common functional programming functions but according to the creators of python they are unpythonic and you should use list comprehensions instead."
   ]
  },
  {
   "cell_type": "markdown",
   "id": "b73b5036",
   "metadata": {},
   "source": [
    "### Function composition"
   ]
  },
  {
   "cell_type": "markdown",
   "id": "57037283",
   "metadata": {},
   "source": [
    "Similar to function composition in math.\n",
    "\n",
    "`f(g(x))` is a composed function that can be done in python too."
   ]
  },
  {
   "cell_type": "code",
   "execution_count": 24,
   "id": "1523ce79",
   "metadata": {},
   "outputs": [
    {
     "data": {
      "text/plain": [
       "12"
      ]
     },
     "execution_count": 24,
     "metadata": {},
     "output_type": "execute_result"
    }
   ],
   "source": [
    "# Function to add 2\n",
    "def f_x(x):\n",
    "    return x + 2\n",
    "  \n",
    "# Function to multiply 2\n",
    "def g_x(x):\n",
    "    return x * 2\n",
    "\n",
    "# Function composer\n",
    "def c(f, g):\n",
    "    return lambda x : f(g(x))\n",
    "  \n",
    "# Compose the functions\n",
    "composed = c(f_x, g_x)\n",
    "\n",
    "composed(5)"
   ]
  },
  {
   "cell_type": "markdown",
   "id": "d408080f",
   "metadata": {},
   "source": [
    "The examples above are very elementary. Refer to the official python functional programming tutorial for more comprehensive details."
   ]
  },
  {
   "cell_type": "markdown",
   "id": "4de342b2",
   "metadata": {},
   "source": [
    "<H1>\n",
    "____________________________________________________\n",
    "\n",
    "</H1>"
   ]
  },
  {
   "cell_type": "markdown",
   "id": "4915912a",
   "metadata": {},
   "source": [
    "## Object Oriented programming"
   ]
  },
  {
   "cell_type": "markdown",
   "id": "b356d644",
   "metadata": {},
   "source": [
    "Object oriented programming (OOP) is another programming paradigm that stores data/variables (attributes) and functions (methods) in one syntax object. This means a programs different parts can be comparmentalized into different classes and they can run independently of one another.\n",
    "\n",
    "Helps a lot with keeping your codebase clean and legible.\n",
    "\n",
    "OOP"
   ]
  },
  {
   "cell_type": "code",
   "execution_count": 25,
   "id": "25c0aacc",
   "metadata": {},
   "outputs": [
    {
     "data": {
      "text/plain": [
       "'Chef Unknown Nobody is from Who cares?.'"
      ]
     },
     "execution_count": 25,
     "metadata": {},
     "output_type": "execute_result"
    }
   ],
   "source": [
    "#This is a basic class declaration. This is called the parent class.\n",
    "class Chef:\n",
    "    \n",
    "    #Initializing attributes:\n",
    "    def __init__(self,name,country):\n",
    "        self.name = name\n",
    "        self.country = country\n",
    "        \n",
    "    def info(self):\n",
    "        return f\"Chef {self.name} is from {self.country}.\"\n",
    "        \n",
    "    def make_pizza(self):\n",
    "        return f\"Chef {self.name} can you make pizza?\"\n",
    "    \n",
    "# This is an object.\n",
    "chef_a = Chef('Unknown Nobody','Who cares?')\n",
    "\n",
    "chef_a.info()"
   ]
  },
  {
   "cell_type": "code",
   "execution_count": 26,
   "id": "d3614d67",
   "metadata": {},
   "outputs": [
    {
     "data": {
      "text/plain": [
       "'I am Gordon Ramsay I can make burgers too!'"
      ]
     },
     "execution_count": 26,
     "metadata": {},
     "output_type": "execute_result"
    }
   ],
   "source": [
    "# This is called a child class and it will 'inherit' the functionality of the previous class\n",
    "\n",
    "class ProChef(Chef):\n",
    "    \n",
    "    def make_burger(self):\n",
    "        return f\"I am {self.name} I can make burgers too!\"\n",
    "    \n",
    "chef_b = ProChef('Gordon Ramsay', 'Scotland')\n",
    "\n",
    "chef_b.make_burger()"
   ]
  },
  {
   "cell_type": "code",
   "execution_count": 27,
   "id": "9aaf6afb",
   "metadata": {},
   "outputs": [
    {
     "data": {
      "text/plain": [
       "['__class__',\n",
       " '__delattr__',\n",
       " '__dict__',\n",
       " '__dir__',\n",
       " '__doc__',\n",
       " '__eq__',\n",
       " '__format__',\n",
       " '__ge__',\n",
       " '__getattribute__',\n",
       " '__gt__',\n",
       " '__hash__',\n",
       " '__init__',\n",
       " '__init_subclass__',\n",
       " '__le__',\n",
       " '__lt__',\n",
       " '__module__',\n",
       " '__ne__',\n",
       " '__new__',\n",
       " '__reduce__',\n",
       " '__reduce_ex__',\n",
       " '__repr__',\n",
       " '__setattr__',\n",
       " '__sizeof__',\n",
       " '__str__',\n",
       " '__subclasshook__',\n",
       " '__weakref__',\n",
       " 'info',\n",
       " 'make_pizza']"
      ]
     },
     "execution_count": 27,
     "metadata": {},
     "output_type": "execute_result"
    }
   ],
   "source": [
    "# You can view attributes of a class using the dir function.\n",
    "dir(Chef)"
   ]
  },
  {
   "cell_type": "markdown",
   "id": "9a7cdb3d",
   "metadata": {},
   "source": [
    "The topics in OOP are too advanced to cover in a tutorial, it will go too in depth into software engineering , so its best you know how to just use classes for now."
   ]
  },
  {
   "cell_type": "code",
   "execution_count": 28,
   "id": "bc0f2153",
   "metadata": {},
   "outputs": [
    {
     "data": {
      "text/plain": [
       "[1, 2, 3, 4, 5, 6]"
      ]
     },
     "execution_count": 28,
     "metadata": {},
     "output_type": "execute_result"
    }
   ],
   "source": [
    "#Everything in python is an object\n",
    "\n",
    "list_obj = [1,2,3,4,5]\n",
    "\n",
    "list_obj.append(6)\n",
    "\n",
    "list_obj"
   ]
  },
  {
   "cell_type": "markdown",
   "id": "4d7da2c9",
   "metadata": {},
   "source": [
    "### Classes without objectification."
   ]
  },
  {
   "cell_type": "markdown",
   "id": "296f689e",
   "metadata": {},
   "source": [
    "Classes don't have to be passed into objects you can modify a class itself and use the parent class itself in code."
   ]
  },
  {
   "cell_type": "code",
   "execution_count": 29,
   "id": "9ee1fe8a",
   "metadata": {},
   "outputs": [],
   "source": [
    "class Accumulator:\n",
    "    \n",
    "    # This is a class variable.\n",
    "    total = 0\n",
    "    \n",
    "    @classmethod # This implies that we will modify the class and not its objects\n",
    "    def add_total(cls,num):\n",
    "        cls.total += num"
   ]
  },
  {
   "cell_type": "code",
   "execution_count": 30,
   "id": "9a7969e0",
   "metadata": {},
   "outputs": [
    {
     "data": {
      "text/plain": [
       "0"
      ]
     },
     "execution_count": 30,
     "metadata": {},
     "output_type": "execute_result"
    }
   ],
   "source": [
    "Accumulator.total"
   ]
  },
  {
   "cell_type": "code",
   "execution_count": 31,
   "id": "1e184933",
   "metadata": {},
   "outputs": [],
   "source": [
    "Accumulator.add_total(2)"
   ]
  },
  {
   "cell_type": "code",
   "execution_count": 32,
   "id": "9275db72",
   "metadata": {},
   "outputs": [
    {
     "data": {
      "text/plain": [
       "2"
      ]
     },
     "execution_count": 32,
     "metadata": {},
     "output_type": "execute_result"
    }
   ],
   "source": [
    "Accumulator.total"
   ]
  },
  {
   "cell_type": "code",
   "execution_count": 33,
   "id": "00057bb4",
   "metadata": {},
   "outputs": [],
   "source": [
    "Accumulator.add_total(3)"
   ]
  },
  {
   "cell_type": "code",
   "execution_count": 34,
   "id": "3933b9a1",
   "metadata": {},
   "outputs": [
    {
     "data": {
      "text/plain": [
       "5"
      ]
     },
     "execution_count": 34,
     "metadata": {},
     "output_type": "execute_result"
    }
   ],
   "source": [
    "Accumulator.total"
   ]
  },
  {
   "cell_type": "markdown",
   "id": "0ed1f8b1",
   "metadata": {},
   "source": [
    "<H1>\n",
    "____________________________________________________\n",
    "\n",
    "</H1>"
   ]
  },
  {
   "cell_type": "markdown",
   "id": "f54b212a",
   "metadata": {},
   "source": [
    "## More on functions"
   ]
  },
  {
   "cell_type": "markdown",
   "id": "5a856017",
   "metadata": {},
   "source": [
    "You can do more with functions."
   ]
  },
  {
   "cell_type": "markdown",
   "id": "66ba5c3b",
   "metadata": {},
   "source": [
    "### Keyword/default arguments."
   ]
  },
  {
   "cell_type": "code",
   "execution_count": 35,
   "id": "1b66669e",
   "metadata": {},
   "outputs": [],
   "source": [
    "# A keyword argument (kwarg) is an argument you can pass via keyword, if you don't it will assign the default value.\n",
    "\n",
    "def add_five_or_somethingelse(your_number,somethingelse = 5):\n",
    "    return your_number + somethingelse"
   ]
  },
  {
   "cell_type": "code",
   "execution_count": 36,
   "id": "8e770de3",
   "metadata": {},
   "outputs": [
    {
     "data": {
      "text/plain": [
       "5"
      ]
     },
     "execution_count": 36,
     "metadata": {},
     "output_type": "execute_result"
    }
   ],
   "source": [
    "# I used the keyword\n",
    "add_five_or_somethingelse(5,somethingelse = 0)"
   ]
  },
  {
   "cell_type": "code",
   "execution_count": 37,
   "id": "52ab6e3c",
   "metadata": {},
   "outputs": [
    {
     "data": {
      "text/plain": [
       "10"
      ]
     },
     "execution_count": 37,
     "metadata": {},
     "output_type": "execute_result"
    }
   ],
   "source": [
    "# I didn't use the kwarg so it resorts to the default argument\n",
    "add_five_or_somethingelse(5)"
   ]
  },
  {
   "cell_type": "markdown",
   "id": "5f7d4419",
   "metadata": {},
   "source": [
    "### Unkown number of arguments."
   ]
  },
  {
   "cell_type": "markdown",
   "id": "a17ff6ed",
   "metadata": {},
   "source": [
    "Sometimes you won't know how many arguments the function will take, this is rare to come across in basic applications but when working with large software with 10,000's of lines of code, things have to be written more discretely so that the functions don't bug out with erroneous data."
   ]
  },
  {
   "cell_type": "code",
   "execution_count": 38,
   "id": "9e5bda0e",
   "metadata": {},
   "outputs": [
    {
     "data": {
      "text/plain": [
       "32"
      ]
     },
     "execution_count": 38,
     "metadata": {},
     "output_type": "execute_result"
    }
   ],
   "source": [
    "# Throwback to tuple unpacking, This was one of the usecases I was talking about!\n",
    "def total(*args):\n",
    "    tot = 0\n",
    "    for x in args:\n",
    "        tot += x\n",
    "    return tot\n",
    "\n",
    "total(1,2,3,5,6,7,8)"
   ]
  },
  {
   "cell_type": "code",
   "execution_count": 39,
   "id": "d818f13d",
   "metadata": {},
   "outputs": [
    {
     "name": "stdout",
     "output_type": "stream",
     "text": [
      "student1's name is Thomas Jefferson\n",
      "student2's name is Abraham Lincoln\n"
     ]
    }
   ],
   "source": [
    "# Unkown number of keyword arguments\n",
    "def students(**kwargs):\n",
    "    for key,value in kwargs.items():\n",
    "        print(f'{key}\\'s name is {value}' )\n",
    "        \n",
    "students(student1 = 'Thomas Jefferson', student2 = 'Abraham Lincoln')"
   ]
  },
  {
   "cell_type": "markdown",
   "id": "c727b090",
   "metadata": {},
   "source": [
    "### Decorators"
   ]
  },
  {
   "cell_type": "markdown",
   "id": "54cb0448",
   "metadata": {},
   "source": [
    "Decorators are similar to function composing but instead of composing the functions that are known, it can compose any function to any other function.\n",
    "\n",
    "It is a step above function composition."
   ]
  },
  {
   "cell_type": "code",
   "execution_count": 47,
   "id": "a6bece77",
   "metadata": {},
   "outputs": [
    {
     "name": "stdout",
     "output_type": "stream",
     "text": [
      "Hi\n",
      "Boo\n"
     ]
    }
   ],
   "source": [
    "# This is the decorator function\n",
    "def say_hi(func):\n",
    "     \n",
    "    def inner(*args, **kwargs):\n",
    "        print('Hi')\n",
    "        func(*args,**kwargs)\n",
    "        \n",
    "    return inner\n",
    " \n",
    " \n",
    "@say_hi # This is the decorator call, I am \"decorating\" the say_name function\n",
    "def say_name(name):\n",
    "    print(f'{name}')\n",
    "\n",
    "    \n",
    "say_name('Boo')"
   ]
  },
  {
   "cell_type": "code",
   "execution_count": null,
   "id": "5aa17e76",
   "metadata": {},
   "outputs": [],
   "source": []
  }
 ],
 "metadata": {
  "kernelspec": {
   "display_name": "Python 3 (ipykernel)",
   "language": "python",
   "name": "python3"
  },
  "language_info": {
   "codemirror_mode": {
    "name": "ipython",
    "version": 3
   },
   "file_extension": ".py",
   "mimetype": "text/x-python",
   "name": "python",
   "nbconvert_exporter": "python",
   "pygments_lexer": "ipython3",
   "version": "3.8.12"
  }
 },
 "nbformat": 4,
 "nbformat_minor": 5
}
