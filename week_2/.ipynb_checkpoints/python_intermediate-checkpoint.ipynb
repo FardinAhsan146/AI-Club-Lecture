{
 "cells": [
  {
   "cell_type": "markdown",
   "id": "13204c25",
   "metadata": {},
   "source": [
    "<H1 align=\"center\">\n",
    "    Python For Engineers - Tutorial 2\n",
    "</H1>\n",
    "\n",
    "<H1 align=\"center\">\n",
    "    By Fardin Ahsan\n",
    "</H1>\n",
    "\n",
    "___________________________________\n",
    "\n",
    "<H1 align=\"center\">\n",
    "Intermediate Python\n",
    "</H1>\n",
    "\n",
    "\n",
    "This tutorial covers intermediate topics in python, A thorough understanding of the topics covered in the previous tutorial wil help.\n",
    "\n",
    "Note: This tutorial is not even the tip of the iceberg. For a real comprehensive tutorial visit the official python tutorial.\n",
    "https://docs.python.org/3/tutorial/index.html\n",
    "\n",
    "______________________________________\n"
   ]
  },
  {
   "cell_type": "markdown",
   "id": "099caffe",
   "metadata": {},
   "source": [
    "## Writing compact code."
   ]
  },
  {
   "cell_type": "markdown",
   "id": "763a1fcb",
   "metadata": {},
   "source": [
    "There are features in python that allow code to be written more compactly, The two main expressions are called comprehension statements and ternary operators. They make your code cleaner and more pythonic. "
   ]
  },
  {
   "cell_type": "markdown",
   "id": "208efd53",
   "metadata": {},
   "source": [
    "### Comprehension statements"
   ]
  },
  {
   "cell_type": "markdown",
   "id": "429e69fb",
   "metadata": {},
   "source": [
    "Comprehension statements are one line loops. They can be free or within collections.\n",
    "\n",
    "They are similarly structured to math mathematical sets.\n",
    "\n",
    "For example the set ;\n",
    "*{ x | ∀  x ∈ [1,11) }*\n",
    "\n",
    "Can be written as `[x for x in range(1,11)]`"
   ]
  },
  {
   "cell_type": "code",
   "execution_count": 1,
   "id": "e4adfc9e",
   "metadata": {},
   "outputs": [
    {
     "data": {
      "text/plain": [
       "[1, 2, 3, 4, 5, 6, 7, 8, 9, 10]"
      ]
     },
     "execution_count": 1,
     "metadata": {},
     "output_type": "execute_result"
    }
   ],
   "source": [
    "'''\n",
    "Suppose I try to create a list containing the numbers 1-10,\n",
    "This is how you would do it traditionally.\n",
    "\n",
    "'''\n",
    "one_ten_list = []\n",
    "for x in range(1,11):\n",
    "    one_ten_list.append(x)\n",
    "    \n",
    "one_ten_list"
   ]
  },
  {
   "cell_type": "code",
   "execution_count": 2,
   "id": "b0af7d7b",
   "metadata": {},
   "outputs": [
    {
     "data": {
      "text/plain": [
       "[1, 2, 3, 4, 5, 6, 7, 8, 9, 10]"
      ]
     },
     "execution_count": 2,
     "metadata": {},
     "output_type": "execute_result"
    }
   ],
   "source": [
    "# The same thing can be done in one line with a comprehension statement\n",
    "\n",
    "one_ten_list_comp = [x for x in range(1,11)]\n",
    "one_ten_list_comp"
   ]
  },
  {
   "cell_type": "code",
   "execution_count": 3,
   "id": "c249af77",
   "metadata": {},
   "outputs": [
    {
     "name": "stdout",
     "output_type": "stream",
     "text": [
      "Set comprehension = {1, 2, 3, 4, 5, 6, 7, 8, 9, 10}.\n",
      "Dict comprehension = {'1': 1, '2': 2, '3': 3, '4': 4, '5': 5, '6': 6, '7': 7, '8': 8, '9': 9, '10': 10}.\n"
     ]
    }
   ],
   "source": [
    "# Comprehension statements work with other iterables as well.\n",
    "\n",
    "set_comp = {x for x in range(1,11)}\n",
    "dict_comp = {str(x):x for x in range(1,11)} # This dictionary has strings as keys and ints as values\n",
    "\n",
    "print(f'Set comprehension = {set_comp}.')\n",
    "print(f'Dict comprehension = {dict_comp}.')"
   ]
  },
  {
   "cell_type": "code",
   "execution_count": 4,
   "id": "d3e49a93",
   "metadata": {},
   "outputs": [
    {
     "data": {
      "text/plain": [
       "[2, 4, 6, 8, 10]"
      ]
     },
     "execution_count": 4,
     "metadata": {},
     "output_type": "execute_result"
    }
   ],
   "source": [
    "# Comprehension statements work with conditionals as well. Syntax is to place it after the for loop.\n",
    "evens = [x for x in range(1,11) if x % 2 == 0]\n",
    "\n",
    "evens"
   ]
  },
  {
   "cell_type": "code",
   "execution_count": 5,
   "id": "59fcc202",
   "metadata": {},
   "outputs": [
    {
     "data": {
      "text/plain": [
       "30"
      ]
     },
     "execution_count": 5,
     "metadata": {},
     "output_type": "execute_result"
    }
   ],
   "source": [
    "# Comprehension statements can work in functions too, these are called generator operators.\n",
    "# Suppose I want to sum up for even numbers from 1-10.\n",
    "\n",
    "sum(num for num in range(1,11) if num % 2 == 0)"
   ]
  },
  {
   "cell_type": "markdown",
   "id": "f74e0399",
   "metadata": {},
   "source": [
    "### Ternary operators"
   ]
  },
  {
   "cell_type": "markdown",
   "id": "50517002",
   "metadata": {},
   "source": [
    "Ternary operators are variables with conditionals on them.\n",
    "\n",
    "Syntax is;\n",
    "\n",
    "`variable = something if conditional else something_else`"
   ]
  },
  {
   "cell_type": "code",
   "execution_count": 6,
   "id": "52f9fa4f",
   "metadata": {},
   "outputs": [
    {
     "data": {
      "text/plain": [
       "'THIS IS A SENTENCE.'"
      ]
     },
     "execution_count": 6,
     "metadata": {},
     "output_type": "execute_result"
    }
   ],
   "source": [
    "'''\n",
    "Lets write a program to turn a string upper case or lower case depending on a boolean variable.\n",
    "\n",
    "Notice how this is much less lines of code than using a conditional block.\n",
    "\n",
    "'''\n",
    "upper = True\n",
    "string = 'This is a sentence.'\n",
    "\n",
    "case_ternary = string.upper() if upper else string.lower()\n",
    "\n",
    "case_ternary"
   ]
  },
  {
   "cell_type": "markdown",
   "id": "c482485d",
   "metadata": {},
   "source": [
    "<H1>\n",
    "____________________________________________________\n",
    "\n",
    "</H1>"
   ]
  },
  {
   "cell_type": "markdown",
   "id": "e065cd27",
   "metadata": {},
   "source": [
    "## Reading and writing files."
   ]
  },
  {
   "cell_type": "markdown",
   "id": "cc83d5de",
   "metadata": {},
   "source": [
    "### Reading a file"
   ]
  },
  {
   "cell_type": "markdown",
   "id": "3c9ab608",
   "metadata": {},
   "source": [
    "For a more detailed explanation: https://realpython.com/read-write-files-python/"
   ]
  },
  {
   "cell_type": "markdown",
   "id": "a64d163b",
   "metadata": {},
   "source": [
    "Reading and writing files is fundamental to programming, given that you can't do much if all the program interacts with is itself. \n",
    "\n"
   ]
  },
  {
   "cell_type": "code",
   "execution_count": 7,
   "id": "de9ad61a",
   "metadata": {},
   "outputs": [
    {
     "data": {
      "text/plain": [
       "['Pug\\n',\n",
       " 'Jack Russell Terrier\\n',\n",
       " 'English Springer Spaniel\\n',\n",
       " 'German Shepherd\\n',\n",
       " 'Staffordshire Bull Terrier\\n',\n",
       " 'Cavalier King Charles Spaniel\\n',\n",
       " 'Golden Retriever\\n',\n",
       " 'West Highland White Terrier\\n',\n",
       " 'Boxer\\n',\n",
       " 'Border Terrier']"
      ]
     },
     "execution_count": 7,
     "metadata": {},
     "output_type": "execute_result"
    }
   ],
   "source": [
    "# Using the with context manager you can read a file.\n",
    "# The context manager does all the work for you. \n",
    "with open('dog_breeds.txt', 'r') as reader:\n",
    "    dogs_list = reader.readlines()\n",
    "\n",
    "dogs_list"
   ]
  },
  {
   "cell_type": "markdown",
   "id": "8fffb3d8",
   "metadata": {},
   "source": [
    "As we can see every string in the list has a new line character (\\n) because thats how it is stored in the text file. \n",
    "\n",
    "Removing it is trivial but you would just want to watch out for that."
   ]
  },
  {
   "cell_type": "markdown",
   "id": "53953ca1",
   "metadata": {},
   "source": [
    "### Writing to a file"
   ]
  },
  {
   "cell_type": "code",
   "execution_count": 8,
   "id": "e7daf502",
   "metadata": {},
   "outputs": [],
   "source": [
    "# Lets write a new file with dog names but all capital.\n",
    "with open('dog_breeds_capitalized.txt', 'w') as writer:\n",
    "    for line in dogs_list:\n",
    "        writer.write(line.upper())"
   ]
  },
  {
   "cell_type": "markdown",
   "id": "b47985b7",
   "metadata": {},
   "source": [
    "### Lets see if that worked."
   ]
  },
  {
   "cell_type": "code",
   "execution_count": 9,
   "id": "ec3f9ac9",
   "metadata": {},
   "outputs": [
    {
     "data": {
      "text/plain": [
       "['PUG\\n',\n",
       " 'JACK RUSSELL TERRIER\\n',\n",
       " 'ENGLISH SPRINGER SPANIEL\\n',\n",
       " 'GERMAN SHEPHERD\\n',\n",
       " 'STAFFORDSHIRE BULL TERRIER\\n',\n",
       " 'CAVALIER KING CHARLES SPANIEL\\n',\n",
       " 'GOLDEN RETRIEVER\\n',\n",
       " 'WEST HIGHLAND WHITE TERRIER\\n',\n",
       " 'BOXER\\n',\n",
       " 'BORDER TERRIER']"
      ]
     },
     "execution_count": 9,
     "metadata": {},
     "output_type": "execute_result"
    }
   ],
   "source": [
    "with open('dog_breeds_capitalized.txt', 'r') as reader_cap:\n",
    "    dogs_list_cap = reader_cap.readlines()\n",
    "\n",
    "dogs_list_cap"
   ]
  },
  {
   "cell_type": "markdown",
   "id": "d9987c21",
   "metadata": {},
   "source": [
    "<H1>\n",
    "____________________________________________________\n",
    "\n",
    "</H1>"
   ]
  },
  {
   "cell_type": "markdown",
   "id": "33ea0978",
   "metadata": {},
   "source": [
    "## Managing/Manipulating directories with the os library."
   ]
  },
  {
   "cell_type": "code",
   "execution_count": 10,
   "id": "188a02a4",
   "metadata": {},
   "outputs": [],
   "source": [
    "import os"
   ]
  },
  {
   "cell_type": "markdown",
   "id": "bd20d490",
   "metadata": {},
   "source": [
    "When you are working with a big project you wouldn't want to have all your files in the same directory, that would make it a nightmare to work with, so you would split up the directory into subdirectories to keep your project structure clean.\n",
    "\n",
    "You can do this using the OS module.\n",
    "\n",
    "You can do a lot of other things, that are often DANGEROUS with the os module, so you need to be careful with that."
   ]
  },
  {
   "cell_type": "markdown",
   "id": "a7d84e0c",
   "metadata": {},
   "source": [
    "### Lets view the current working directory"
   ]
  },
  {
   "cell_type": "code",
   "execution_count": 11,
   "id": "f9a21659",
   "metadata": {},
   "outputs": [
    {
     "data": {
      "text/plain": [
       "'C:\\\\Users\\\\Fardin\\\\Desktop\\\\Projects\\\\RIT AI lectures\\\\week_2'"
      ]
     },
     "execution_count": 11,
     "metadata": {},
     "output_type": "execute_result"
    }
   ],
   "source": [
    "os.getcwd()"
   ]
  },
  {
   "cell_type": "code",
   "execution_count": 12,
   "id": "3c1248e7",
   "metadata": {},
   "outputs": [
    {
     "data": {
      "text/plain": [
       "['.ipynb_checkpoints',\n",
       " 'dog_breeds.txt',\n",
       " 'dog_breeds_capitalized.txt',\n",
       " 'files.PNG',\n",
       " 'python_intermediate.ipynb',\n",
       " 'rename_examples']"
      ]
     },
     "execution_count": 12,
     "metadata": {},
     "output_type": "execute_result"
    }
   ],
   "source": [
    "os.listdir()"
   ]
  },
  {
   "cell_type": "markdown",
   "id": "ca0f55e6",
   "metadata": {},
   "source": [
    "### Lets access one of the subfolders"
   ]
  },
  {
   "cell_type": "code",
   "execution_count": 13,
   "id": "3509c3a4",
   "metadata": {},
   "outputs": [
    {
     "data": {
      "text/plain": [
       "'C:\\\\Users\\\\Fardin\\\\Desktop\\\\Projects\\\\RIT AI lectures\\\\week_2\\\\rename_examples'"
      ]
     },
     "execution_count": 13,
     "metadata": {},
     "output_type": "execute_result"
    }
   ],
   "source": [
    "# This is called the Absolute path.\n",
    "path = os.getcwd() + '\\\\rename_examples'\n",
    "path"
   ]
  },
  {
   "cell_type": "code",
   "execution_count": 14,
   "id": "1ff90ed4",
   "metadata": {},
   "outputs": [
    {
     "data": {
      "text/plain": [
       "['file_1.txt', 'file_2.txt', 'file_3.txt']"
      ]
     },
     "execution_count": 14,
     "metadata": {},
     "output_type": "execute_result"
    }
   ],
   "source": [
    "os.listdir(path)"
   ]
  },
  {
   "cell_type": "markdown",
   "id": "b659395d",
   "metadata": {},
   "source": [
    "<img src='files.PNG'>"
   ]
  },
  {
   "cell_type": "markdown",
   "id": "6dd70599",
   "metadata": {},
   "source": [
    "<H1>\n",
    "____________________________________________________\n",
    "\n",
    "</H1>"
   ]
  },
  {
   "cell_type": "markdown",
   "id": "308c85f9",
   "metadata": {},
   "source": [
    "## Generators"
   ]
  },
  {
   "cell_type": "markdown",
   "id": "b0259d94",
   "metadata": {},
   "source": [
    "Some recursive functions are very memory intensive, generator statements are functions where the previous recursed values are held in memory. This makes the code run a lot faster especially when you are working with large files such as videos.\n",
    "\n",
    "Almost all functions in computer vision and image processing are generators. As obviously, images have a large memory footprint."
   ]
  },
  {
   "cell_type": "code",
   "execution_count": 19,
   "id": "1a8dd5b7",
   "metadata": {},
   "outputs": [
    {
     "name": "stdout",
     "output_type": "stream",
     "text": [
      "0\n",
      "1\n",
      "1\n",
      "2\n",
      "3\n",
      "5\n",
      "8\n",
      "13\n",
      "21\n",
      "34\n",
      "55\n",
      "89\n",
      "144\n",
      "233\n",
      "377\n",
      "610\n",
      "987\n",
      "1597\n",
      "2584\n",
      "4181\n"
     ]
    }
   ],
   "source": [
    "# Fibonacci recursive style\n",
    "def fib_func(n):\n",
    "    if n == 0 or n == 1:\n",
    "        return n\n",
    "    else:\n",
    "        return fib_func(n-1) + fib_func(n-2)\n",
    "\n",
    "for x in range(20):\n",
    "    print(fib_func(x))"
   ]
  },
  {
   "cell_type": "markdown",
   "id": "9a1341fb",
   "metadata": {},
   "source": [
    "### Lets see how long this takes."
   ]
  },
  {
   "cell_type": "code",
   "execution_count": 21,
   "id": "e30fdff5",
   "metadata": {},
   "outputs": [
    {
     "name": "stdout",
     "output_type": "stream",
     "text": [
      "54.9 µs ± 407 ns per loop (mean ± std. dev. of 7 runs, 10000 loops each)\n"
     ]
    }
   ],
   "source": [
    "%%timeit\n",
    "\n",
    "for x in range(10):\n",
    "    fib_func(x)"
   ]
  },
  {
   "cell_type": "markdown",
   "id": "136d49ac",
   "metadata": {},
   "source": [
    "### Same thing with a generator."
   ]
  },
  {
   "cell_type": "code",
   "execution_count": 22,
   "id": "e7388570",
   "metadata": {},
   "outputs": [],
   "source": [
    "def fib_gen(n):\n",
    "    if n == 0 or n == 1:\n",
    "        yield n\n",
    "    else:\n",
    "        yield fib_gen(n-1) + fib_gen(n-2)"
   ]
  },
  {
   "cell_type": "code",
   "execution_count": 23,
   "id": "a04b0309",
   "metadata": {},
   "outputs": [
    {
     "name": "stdout",
     "output_type": "stream",
     "text": [
      "3.6 µs ± 39.6 ns per loop (mean ± std. dev. of 7 runs, 100000 loops each)\n"
     ]
    }
   ],
   "source": [
    "%%timeit\n",
    "\n",
    "for x in range(10):\n",
    "    fib_gen(x)"
   ]
  },
  {
   "cell_type": "markdown",
   "id": "8aeec7f3",
   "metadata": {},
   "source": [
    "#### Much faster! Because the recursive function does not have to run in O(n!) time, the previously recursed values are stored in memory. Note how 100,000 loops were ran instead of 10,000 and its still much faster.\n",
    "\n",
    "Also note: The %%timeit command is a 'magic' command that is specific to jupyter notebook shells, for .py files you will have to make your own functions (hint: decorators). "
   ]
  },
  {
   "cell_type": "markdown",
   "id": "8ea3727e",
   "metadata": {},
   "source": [
    "<H1>\n",
    "____________________________________________________\n",
    "\n",
    "</H1>"
   ]
  },
  {
   "cell_type": "markdown",
   "id": "a07c58b1",
   "metadata": {},
   "source": [
    "## Functional programming"
   ]
  },
  {
   "cell_type": "markdown",
   "id": "eb7597d8",
   "metadata": {},
   "source": [
    "Functional programming is a programming paradigm that relies on functions to carry out most of computation. Mostly used in scientific and mathmatical computing as opposed to obeject oriented programming which is used in software development.\n",
    "\n",
    "Much like functions in math, you can chain and compose python functions too, and they form the backbone of functional programming. \n",
    "\n",
    "Functional programming is far to broad a topic to cover in a tutorial so refer to the python documentation;\n",
    "\n",
    "https://docs.python.org/3/howto/functional.html"
   ]
  },
  {
   "cell_type": "markdown",
   "id": "5e2aa18c",
   "metadata": {},
   "source": [
    "### Lambda expressions/ annonymous functions"
   ]
  },
  {
   "cell_type": "code",
   "execution_count": 25,
   "id": "8d97d45b",
   "metadata": {},
   "outputs": [
    {
     "name": "stdout",
     "output_type": "stream",
     "text": [
      "3\n",
      "3\n"
     ]
    }
   ],
   "source": [
    "# Defined function\n",
    "def add(a,b):\n",
    "    return a + b\n",
    "\n",
    "add_anon = lambda a,b: a + b\n",
    "\n",
    "print(add(1,2))\n",
    "print(add_anon(1,2))"
   ]
  },
  {
   "cell_type": "markdown",
   "id": "0b62e855",
   "metadata": {},
   "source": [
    "On the surface they look like the same thing, which in that way it is, but you can use annonymous functions without having defined it beforehand, which comes in handy a lot."
   ]
  },
  {
   "cell_type": "code",
   "execution_count": 28,
   "id": "088519c2",
   "metadata": {},
   "outputs": [
    {
     "data": {
      "text/plain": [
       "[(1, 5), (3, 4), (5, 6)]"
      ]
     },
     "execution_count": 28,
     "metadata": {},
     "output_type": "execute_result"
    }
   ],
   "source": [
    "# Suppose I have this list with 1x2 tuple pairs.\n",
    "cartesian = [(1,5),(3,4),(5,6)]\n",
    "cartesian"
   ]
  },
  {
   "cell_type": "code",
   "execution_count": 29,
   "id": "6f6b1383",
   "metadata": {},
   "outputs": [
    {
     "data": {
      "text/plain": [
       "[(3, 4), (1, 5), (5, 6)]"
      ]
     },
     "execution_count": 29,
     "metadata": {},
     "output_type": "execute_result"
    }
   ],
   "source": [
    "# I can sort that list using a lambda expression.\n",
    "sorted(cartesian, key = lambda tup: tup[1])"
   ]
  },
  {
   "cell_type": "markdown",
   "id": "ef7b1ecc",
   "metadata": {},
   "source": [
    "### Mapping"
   ]
  },
  {
   "cell_type": "code",
   "execution_count": 33,
   "id": "ef944b05",
   "metadata": {},
   "outputs": [
    {
     "data": {
      "text/plain": [
       "[2, 3, 4]"
      ]
     },
     "execution_count": 33,
     "metadata": {},
     "output_type": "execute_result"
    }
   ],
   "source": [
    "# Example function that adds 1.\n",
    "def add_one(number):\n",
    "    return number + 1\n",
    "\n",
    "num_list = [add_one(x) for x in (1,2,3)]\n",
    "num_list"
   ]
  },
  {
   "cell_type": "code",
   "execution_count": 36,
   "id": "2758100b",
   "metadata": {},
   "outputs": [
    {
     "data": {
      "text/plain": [
       "[2, 3, 4]"
      ]
     },
     "execution_count": 36,
     "metadata": {},
     "output_type": "execute_result"
    }
   ],
   "source": [
    "list(map(add_one,(1,2,3)))"
   ]
  },
  {
   "cell_type": "markdown",
   "id": "ea5f3169",
   "metadata": {},
   "source": [
    "##### WARNING: Mapping, filtering and reducing are common functional programming functions but according to the creators of python they are unpythonic and you should use list comprehensions instead."
   ]
  },
  {
   "cell_type": "markdown",
   "id": "fffb5e11",
   "metadata": {},
   "source": [
    "### Function composition"
   ]
  },
  {
   "cell_type": "markdown",
   "id": "c5ee4585",
   "metadata": {},
   "source": [
    "Similar to function composition in math.\n",
    "\n",
    "`f(g(x))` is a composed function that can be done in python too."
   ]
  },
  {
   "cell_type": "code",
   "execution_count": 39,
   "id": "b02497e7",
   "metadata": {},
   "outputs": [
    {
     "data": {
      "text/plain": [
       "12"
      ]
     },
     "execution_count": 39,
     "metadata": {},
     "output_type": "execute_result"
    }
   ],
   "source": [
    "# Function to add 2\n",
    "def f_x(x):\n",
    "    return x + 2\n",
    "  \n",
    "# Function to multiply 2\n",
    "def g_x(x):\n",
    "    return x * 2\n",
    "\n",
    "# Function composer\n",
    "def c(f, g):\n",
    "    return lambda x : f(g(x))\n",
    "  \n",
    "# Compose the functions\n",
    "composed = c(f_x, g_x)\n",
    "\n",
    "composed(5)"
   ]
  },
  {
   "cell_type": "markdown",
   "id": "694b7a1a",
   "metadata": {},
   "source": [
    "The examples above are very elementary. Refer to the official python functional programming tutorial for more comprehensive details."
   ]
  },
  {
   "cell_type": "markdown",
   "id": "0d9db3c5",
   "metadata": {},
   "source": [
    "<H1>\n",
    "____________________________________________________\n",
    "\n",
    "</H1>"
   ]
  },
  {
   "cell_type": "markdown",
   "id": "0d7ca355",
   "metadata": {},
   "source": [
    "## Object Oriented programming"
   ]
  },
  {
   "cell_type": "markdown",
   "id": "eac5d42d",
   "metadata": {},
   "source": [
    "Object oriented programming (OOP) is another programming paradigm that stores data/variables (attributes) and functions (methods) in one syntax object. This means a programs different parts can be comparmentalized into different classes and they can run independently of one another.\n",
    "\n",
    "Helps a lot with keeping your codebase clean and legible.\n",
    "\n",
    "OOP"
   ]
  },
  {
   "cell_type": "code",
   "execution_count": 42,
   "id": "a2cc1038",
   "metadata": {},
   "outputs": [
    {
     "data": {
      "text/plain": [
       "'Chef Unknown Nobody is from Who cares?.'"
      ]
     },
     "execution_count": 42,
     "metadata": {},
     "output_type": "execute_result"
    }
   ],
   "source": [
    "#This is a basic class declaration. This is called the parent class.\n",
    "class Chef:\n",
    "    \n",
    "    #Initializing attributes:\n",
    "    def __init__(self,name,country):\n",
    "        self.name = name\n",
    "        self.country = country\n",
    "        \n",
    "    def info(self):\n",
    "        return f\"Chef {self.name} is from {self.country}.\"\n",
    "        \n",
    "    def make_pizza(self):\n",
    "        return f\"Chef {self.name} can you make pizza?\"\n",
    "    \n",
    "# This is an object.\n",
    "chef_a = Chef('Unknown Nobody','Who cares?')\n",
    "\n",
    "chef_a.info()"
   ]
  },
  {
   "cell_type": "code",
   "execution_count": 44,
   "id": "fa69178a",
   "metadata": {},
   "outputs": [
    {
     "data": {
      "text/plain": [
       "'I am Gordon Ramsay I can make burgers too!'"
      ]
     },
     "execution_count": 44,
     "metadata": {},
     "output_type": "execute_result"
    }
   ],
   "source": [
    "# This is called a child class and it will 'inherit' the functionality of the previous class\n",
    "\n",
    "class ProChef(Chef):\n",
    "    \n",
    "    def make_burger(self):\n",
    "        return f\"I am {self.name} I can make burgers too!\"\n",
    "    \n",
    "chef_b = ProChef('Gordon Ramsay', 'Scotland')\n",
    "\n",
    "chef_b.make_burger()"
   ]
  },
  {
   "cell_type": "code",
   "execution_count": 45,
   "id": "b2ff115b",
   "metadata": {},
   "outputs": [
    {
     "data": {
      "text/plain": [
       "['__class__',\n",
       " '__delattr__',\n",
       " '__dict__',\n",
       " '__dir__',\n",
       " '__doc__',\n",
       " '__eq__',\n",
       " '__format__',\n",
       " '__ge__',\n",
       " '__getattribute__',\n",
       " '__gt__',\n",
       " '__hash__',\n",
       " '__init__',\n",
       " '__init_subclass__',\n",
       " '__le__',\n",
       " '__lt__',\n",
       " '__module__',\n",
       " '__ne__',\n",
       " '__new__',\n",
       " '__reduce__',\n",
       " '__reduce_ex__',\n",
       " '__repr__',\n",
       " '__setattr__',\n",
       " '__sizeof__',\n",
       " '__str__',\n",
       " '__subclasshook__',\n",
       " '__weakref__',\n",
       " 'info',\n",
       " 'make_pizza']"
      ]
     },
     "execution_count": 45,
     "metadata": {},
     "output_type": "execute_result"
    }
   ],
   "source": [
    "# You can view attributes of a class using the dir function.\n",
    "dir(Chef)"
   ]
  },
  {
   "cell_type": "markdown",
   "id": "b49f3fe2",
   "metadata": {},
   "source": [
    "The topics in OOP are too advanced to cover in a tutorial, it will go too in depth into software engineering , so its best you know how to just use classes for now."
   ]
  },
  {
   "cell_type": "code",
   "execution_count": 52,
   "id": "ca88b086",
   "metadata": {},
   "outputs": [
    {
     "data": {
      "text/plain": [
       "[1, 2, 3, 4, 5, 6]"
      ]
     },
     "execution_count": 52,
     "metadata": {},
     "output_type": "execute_result"
    }
   ],
   "source": [
    "#Everything in python is an object\n",
    "\n",
    "list_obj = [1,2,3,4,5]\n",
    "\n",
    "list_obj.append(6)\n",
    "\n",
    "list_obj"
   ]
  },
  {
   "cell_type": "markdown",
   "id": "607b589c",
   "metadata": {},
   "source": [
    "### Classes without objectification."
   ]
  },
  {
   "cell_type": "markdown",
   "id": "7efb88c0",
   "metadata": {},
   "source": [
    "Classes don't have to be passed into objects you can modify a class itself and use the parent class itself in code."
   ]
  },
  {
   "cell_type": "code",
   "execution_count": 59,
   "id": "073319cb",
   "metadata": {},
   "outputs": [],
   "source": [
    "class Accumulator:\n",
    "    \n",
    "    # This is a class variable.\n",
    "    total = 0\n",
    "    \n",
    "    @classmethod # This implies that we will modify the class and not its objects\n",
    "    def add_total(cls,num):\n",
    "        cls.total += num"
   ]
  },
  {
   "cell_type": "code",
   "execution_count": 60,
   "id": "8e75196e",
   "metadata": {},
   "outputs": [
    {
     "data": {
      "text/plain": [
       "0"
      ]
     },
     "execution_count": 60,
     "metadata": {},
     "output_type": "execute_result"
    }
   ],
   "source": [
    "Accumulator.total"
   ]
  },
  {
   "cell_type": "code",
   "execution_count": 61,
   "id": "ee2c1608",
   "metadata": {},
   "outputs": [],
   "source": [
    "Accumulator.add_total(2)"
   ]
  },
  {
   "cell_type": "code",
   "execution_count": 62,
   "id": "16c73ae7",
   "metadata": {},
   "outputs": [
    {
     "data": {
      "text/plain": [
       "2"
      ]
     },
     "execution_count": 62,
     "metadata": {},
     "output_type": "execute_result"
    }
   ],
   "source": [
    "Accumulator.total"
   ]
  },
  {
   "cell_type": "code",
   "execution_count": 63,
   "id": "4042222f",
   "metadata": {},
   "outputs": [],
   "source": [
    "Accumulator.add_total(3)"
   ]
  },
  {
   "cell_type": "code",
   "execution_count": 64,
   "id": "25639819",
   "metadata": {},
   "outputs": [
    {
     "data": {
      "text/plain": [
       "5"
      ]
     },
     "execution_count": 64,
     "metadata": {},
     "output_type": "execute_result"
    }
   ],
   "source": [
    "Accumulator.total"
   ]
  },
  {
   "cell_type": "markdown",
   "id": "84145392",
   "metadata": {},
   "source": [
    "<H1>\n",
    "____________________________________________________\n",
    "\n",
    "</H1>"
   ]
  },
  {
   "cell_type": "markdown",
   "id": "613796da",
   "metadata": {},
   "source": [
    "## More on functions"
   ]
  },
  {
   "cell_type": "markdown",
   "id": "6f9ac907",
   "metadata": {},
   "source": [
    "You can do more with functions."
   ]
  },
  {
   "cell_type": "markdown",
   "id": "528d0a7c",
   "metadata": {},
   "source": [
    "### Keyword/default arguments."
   ]
  },
  {
   "cell_type": "code",
   "execution_count": 67,
   "id": "6d6eafec",
   "metadata": {},
   "outputs": [],
   "source": [
    "# A keyword argument (kwarg) is an argument you can pass via keyword, if you don't it will assign the default value.\n",
    "\n",
    "def add_five_or_somethingelse(your_number,somethingelse = 5):\n",
    "    return your_number + somethingelse"
   ]
  },
  {
   "cell_type": "code",
   "execution_count": 68,
   "id": "bc945157",
   "metadata": {},
   "outputs": [
    {
     "data": {
      "text/plain": [
       "5"
      ]
     },
     "execution_count": 68,
     "metadata": {},
     "output_type": "execute_result"
    }
   ],
   "source": [
    "# I used the keyword\n",
    "add_five_or_somethingelse(5,somethingelse = 0)"
   ]
  },
  {
   "cell_type": "code",
   "execution_count": 70,
   "id": "9779171a",
   "metadata": {},
   "outputs": [
    {
     "data": {
      "text/plain": [
       "10"
      ]
     },
     "execution_count": 70,
     "metadata": {},
     "output_type": "execute_result"
    }
   ],
   "source": [
    "# I didn't use the kwarg so it resorts to the default argument\n",
    "add_five_or_somethingelse(5)"
   ]
  },
  {
   "cell_type": "markdown",
   "id": "4a0eef66",
   "metadata": {},
   "source": [
    "### Unkown number of arguments."
   ]
  },
  {
   "cell_type": "markdown",
   "id": "74939c0c",
   "metadata": {},
   "source": [
    "Sometimes you won't know how many arguments the function will take, this is rare to come across in basic applications but when working with large software with 10,000's of lines of code, things have to be written more discretely so that the functions don't bug out with erroneous data."
   ]
  },
  {
   "cell_type": "code",
   "execution_count": 72,
   "id": "906d1cf8",
   "metadata": {},
   "outputs": [
    {
     "data": {
      "text/plain": [
       "32"
      ]
     },
     "execution_count": 72,
     "metadata": {},
     "output_type": "execute_result"
    }
   ],
   "source": [
    "# Throwback to tuple unpacking, This was one of the usecases I was talking about!\n",
    "def total(*args):\n",
    "    tot = 0\n",
    "    for x in args:\n",
    "        tot += x\n",
    "    return tot\n",
    "\n",
    "total(1,2,3,5,6,7,8)"
   ]
  },
  {
   "cell_type": "code",
   "execution_count": 75,
   "id": "b8611af2",
   "metadata": {},
   "outputs": [
    {
     "name": "stdout",
     "output_type": "stream",
     "text": [
      "student1's name is Thomas Jefferson\n",
      "student2's name is Abraham Lincoln\n"
     ]
    }
   ],
   "source": [
    "# Unkown number of keyword arguments\n",
    "def students(**kwargs):\n",
    "    for key,value in kwargs.items():\n",
    "        print(f'{key}\\'s name is {value}' )\n",
    "        \n",
    "students(student1 = 'Thomas Jefferson', student2 = 'Abraham Lincoln')"
   ]
  },
  {
   "cell_type": "markdown",
   "id": "ba1adc4b",
   "metadata": {},
   "source": [
    "### Decorators"
   ]
  },
  {
   "cell_type": "code",
   "execution_count": null,
   "id": "adde2d2c",
   "metadata": {},
   "outputs": [],
   "source": []
  }
 ],
 "metadata": {
  "kernelspec": {
   "display_name": "Python 3 (ipykernel)",
   "language": "python",
   "name": "python3"
  },
  "language_info": {
   "codemirror_mode": {
    "name": "ipython",
    "version": 3
   },
   "file_extension": ".py",
   "mimetype": "text/x-python",
   "name": "python",
   "nbconvert_exporter": "python",
   "pygments_lexer": "ipython3",
   "version": "3.8.12"
  }
 },
 "nbformat": 4,
 "nbformat_minor": 5
}
