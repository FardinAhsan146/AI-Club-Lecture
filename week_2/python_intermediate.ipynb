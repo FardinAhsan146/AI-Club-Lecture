{
 "cells": [
  {
   "cell_type": "markdown",
   "id": "c19aa8a7",
   "metadata": {},
   "source": [
    "<H1 align=\"center\">\n",
    "    Python For Engineers - Tutorial 2\n",
    "</H1>\n",
    "\n",
    "<H1 align=\"center\">\n",
    "    By Fardin Ahsan\n",
    "</H1>\n",
    "\n",
    "___________________________________\n",
    "\n",
    "<H1 align=\"center\">\n",
    "Intermediate Python\n",
    "</H1>\n",
    "\n",
    "\n",
    "This tutorial covers intermediate topics in python, A thorough understanding of the topics covered in the previous tutorial wil help.\n",
    "\n",
    "Note: This tutorial is not even the tip of the iceberg. For a real comprehensive tutorial visit the official python tutorial.\n",
    "https://docs.python.org/3/tutorial/index.html\n",
    "\n",
    "______________________________________\n"
   ]
  },
  {
   "cell_type": "markdown",
   "id": "7cbe6a83",
   "metadata": {},
   "source": [
    "## Writing compact code."
   ]
  },
  {
   "cell_type": "markdown",
   "id": "e96e772a",
   "metadata": {},
   "source": [
    "There are features in python that allow code to be written more compactly, The two main expressions are called comprehension statements and ternary operators. They make your code cleaner and more pythonic. "
   ]
  },
  {
   "cell_type": "markdown",
   "id": "8a3e6976",
   "metadata": {},
   "source": [
    "### Comprehension statements"
   ]
  },
  {
   "cell_type": "markdown",
   "id": "33e32eab",
   "metadata": {},
   "source": [
    "Comprehension statements are one line loops. They can be free or within collections.\n",
    "\n",
    "They are similarly structured to math mathematical sets.\n",
    "\n",
    "For example the set ;\n",
    "*{ x | ∀  x ∈ [1,11) }*\n",
    "\n",
    "Can be written as `[x for x in range(1,11)]`"
   ]
  },
  {
   "cell_type": "code",
   "execution_count": 1,
   "id": "bcda9b86",
   "metadata": {},
   "outputs": [
    {
     "data": {
      "text/plain": [
       "[1, 2, 3, 4, 5, 6, 7, 8, 9, 10]"
      ]
     },
     "execution_count": 1,
     "metadata": {},
     "output_type": "execute_result"
    }
   ],
   "source": [
    "'''\n",
    "Suppose I try to create a list containing the numbers 1-10,\n",
    "This is how you would do it traditionally.\n",
    "\n",
    "'''\n",
    "one_ten_list = []\n",
    "for x in range(1,11):\n",
    "    one_ten_list.append(x)\n",
    "    \n",
    "one_ten_list"
   ]
  },
  {
   "cell_type": "code",
   "execution_count": 2,
   "id": "05a2fa2d",
   "metadata": {},
   "outputs": [
    {
     "data": {
      "text/plain": [
       "[1, 2, 3, 4, 5, 6, 7, 8, 9, 10]"
      ]
     },
     "execution_count": 2,
     "metadata": {},
     "output_type": "execute_result"
    }
   ],
   "source": [
    "# The same thing can be done in one line with a comprehension statement\n",
    "\n",
    "one_ten_list_comp = [x for x in range(1,11)]\n",
    "one_ten_list_comp"
   ]
  },
  {
   "cell_type": "code",
   "execution_count": 3,
   "id": "f293bc99",
   "metadata": {},
   "outputs": [
    {
     "name": "stdout",
     "output_type": "stream",
     "text": [
      "Set comprehension = {1, 2, 3, 4, 5, 6, 7, 8, 9, 10}.\n",
      "Dict comprehension = {'1': 1, '2': 2, '3': 3, '4': 4, '5': 5, '6': 6, '7': 7, '8': 8, '9': 9, '10': 10}.\n"
     ]
    }
   ],
   "source": [
    "# Comprehension statements work with other iterables as well.\n",
    "\n",
    "set_comp = {x for x in range(1,11)}\n",
    "dict_comp = {str(x):x for x in range(1,11)} # This dictionary has strings as keys and ints as values\n",
    "\n",
    "print(f'Set comprehension = {set_comp}.')\n",
    "print(f'Dict comprehension = {dict_comp}.')"
   ]
  },
  {
   "cell_type": "code",
   "execution_count": 4,
   "id": "3009c844",
   "metadata": {},
   "outputs": [
    {
     "data": {
      "text/plain": [
       "[2, 4, 6, 8, 10]"
      ]
     },
     "execution_count": 4,
     "metadata": {},
     "output_type": "execute_result"
    }
   ],
   "source": [
    "# Comprehension statements work with conditionals as well. Syntax is to place it after the for loop.\n",
    "evens = [x for x in range(1,11) if x % 2 == 0]\n",
    "\n",
    "evens"
   ]
  },
  {
   "cell_type": "code",
   "execution_count": 5,
   "id": "744aeed4",
   "metadata": {},
   "outputs": [
    {
     "data": {
      "text/plain": [
       "30"
      ]
     },
     "execution_count": 5,
     "metadata": {},
     "output_type": "execute_result"
    }
   ],
   "source": [
    "# Comprehension statements can work in functions too, these are called generator operators.\n",
    "# Suppose I want to sum up for even numbers from 1-10.\n",
    "\n",
    "sum(num for num in range(1,11) if num % 2 == 0)"
   ]
  },
  {
   "cell_type": "markdown",
   "id": "bb47ef7b",
   "metadata": {},
   "source": [
    "### Ternary operators"
   ]
  },
  {
   "cell_type": "markdown",
   "id": "3e9ac7f4",
   "metadata": {},
   "source": [
    "Ternary operators are variables with conditionals on them.\n",
    "\n",
    "Syntax is;\n",
    "\n",
    "`variable = something if conditional else something_else`"
   ]
  },
  {
   "cell_type": "code",
   "execution_count": 6,
   "id": "d5e647c8",
   "metadata": {},
   "outputs": [
    {
     "data": {
      "text/plain": [
       "'THIS IS A SENTENCE.'"
      ]
     },
     "execution_count": 6,
     "metadata": {},
     "output_type": "execute_result"
    }
   ],
   "source": [
    "'''\n",
    "Lets write a program to turn a string upper case or lower case depending on a boolean variable.\n",
    "\n",
    "Notice how this is much less lines of code than using a conditional block.\n",
    "\n",
    "'''\n",
    "upper = True\n",
    "string = 'This is a sentence.'\n",
    "\n",
    "case_ternary = string.upper() if upper else string.lower()\n",
    "\n",
    "case_ternary"
   ]
  },
  {
   "cell_type": "markdown",
   "id": "1ce16a8b",
   "metadata": {},
   "source": [
    "<H1>\n",
    "____________________________________________________\n",
    "\n",
    "</H1>"
   ]
  },
  {
   "cell_type": "markdown",
   "id": "84225f05",
   "metadata": {},
   "source": [
    "## Reading and writing files."
   ]
  },
  {
   "cell_type": "markdown",
   "id": "e33facfd",
   "metadata": {},
   "source": [
    "### Reading a file"
   ]
  },
  {
   "cell_type": "markdown",
   "id": "960378f5",
   "metadata": {},
   "source": [
    "For a more detailed explanation: https://realpython.com/read-write-files-python/"
   ]
  },
  {
   "cell_type": "markdown",
   "id": "2e2009cb",
   "metadata": {},
   "source": [
    "Reading and writing files is fundamental to programming, given that you can't do much if all the program interacts with is itself. \n",
    "\n"
   ]
  },
  {
   "cell_type": "code",
   "execution_count": 7,
   "id": "ed6a034b",
   "metadata": {},
   "outputs": [
    {
     "data": {
      "text/plain": [
       "['Pug\\n',\n",
       " 'Jack Russell Terrier\\n',\n",
       " 'English Springer Spaniel\\n',\n",
       " 'German Shepherd\\n',\n",
       " 'Staffordshire Bull Terrier\\n',\n",
       " 'Cavalier King Charles Spaniel\\n',\n",
       " 'Golden Retriever\\n',\n",
       " 'West Highland White Terrier\\n',\n",
       " 'Boxer\\n',\n",
       " 'Border Terrier']"
      ]
     },
     "execution_count": 7,
     "metadata": {},
     "output_type": "execute_result"
    }
   ],
   "source": [
    "# Using the with context manager you can read a file.\n",
    "# The context manager does all the work for you. \n",
    "with open('dog_breeds.txt', 'r') as reader:\n",
    "    dogs_list = reader.readlines()\n",
    "\n",
    "dogs_list"
   ]
  },
  {
   "cell_type": "markdown",
   "id": "d545a450",
   "metadata": {},
   "source": [
    "As we can see every string in the list has a new line character (\\n) because thats how it is stored in the text file. \n",
    "\n",
    "Removing it is trivial but you would just want to watch out for that."
   ]
  },
  {
   "cell_type": "markdown",
   "id": "c95d22b7",
   "metadata": {},
   "source": [
    "### Writing to a file"
   ]
  },
  {
   "cell_type": "code",
   "execution_count": 8,
   "id": "eb92a9f0",
   "metadata": {},
   "outputs": [],
   "source": [
    "# Lets write a new file with dog names but all capital.\n",
    "with open('dog_breeds_capitalized.txt', 'w') as writer:\n",
    "    for line in dogs_list:\n",
    "        writer.write(line.upper())"
   ]
  },
  {
   "cell_type": "markdown",
   "id": "0b45e84c",
   "metadata": {},
   "source": [
    "### Lets see if that worked."
   ]
  },
  {
   "cell_type": "code",
   "execution_count": 9,
   "id": "daffd633",
   "metadata": {},
   "outputs": [
    {
     "data": {
      "text/plain": [
       "['PUG\\n',\n",
       " 'JACK RUSSELL TERRIER\\n',\n",
       " 'ENGLISH SPRINGER SPANIEL\\n',\n",
       " 'GERMAN SHEPHERD\\n',\n",
       " 'STAFFORDSHIRE BULL TERRIER\\n',\n",
       " 'CAVALIER KING CHARLES SPANIEL\\n',\n",
       " 'GOLDEN RETRIEVER\\n',\n",
       " 'WEST HIGHLAND WHITE TERRIER\\n',\n",
       " 'BOXER\\n',\n",
       " 'BORDER TERRIER']"
      ]
     },
     "execution_count": 9,
     "metadata": {},
     "output_type": "execute_result"
    }
   ],
   "source": [
    "with open('dog_breeds_capitalized.txt', 'r') as reader_cap:\n",
    "    dogs_list_cap = reader_cap.readlines()\n",
    "\n",
    "dogs_list_cap"
   ]
  },
  {
   "cell_type": "markdown",
   "id": "c9809a70",
   "metadata": {},
   "source": [
    "<H1>\n",
    "____________________________________________________\n",
    "\n",
    "</H1>"
   ]
  },
  {
   "cell_type": "markdown",
   "id": "8a02b0a7",
   "metadata": {},
   "source": [
    "## Manging/Manipulating directories with the os library."
   ]
  },
  {
   "cell_type": "code",
   "execution_count": 10,
   "id": "159368d3",
   "metadata": {},
   "outputs": [],
   "source": [
    "import os"
   ]
  },
  {
   "cell_type": "markdown",
   "id": "6114c28d",
   "metadata": {},
   "source": [
    "When you are working with a big project you wouldn't want to have all your files in the same directory, that would make it a nightmare to work with, so you would split up the directory into subdirectories to keep your project structure clean.\n",
    "\n",
    "You can do this using the OS module.\n",
    "\n",
    "You can do a lot of other things, that are often DANGEROUS with the os module, so you need to be careful with that."
   ]
  },
  {
   "cell_type": "markdown",
   "id": "40324642",
   "metadata": {},
   "source": [
    "### Lets view the current working directory"
   ]
  },
  {
   "cell_type": "code",
   "execution_count": 11,
   "id": "d240c126",
   "metadata": {},
   "outputs": [
    {
     "data": {
      "text/plain": [
       "'C:\\\\Users\\\\Fardin\\\\Desktop\\\\Projects\\\\RIT AI lectures\\\\week_2'"
      ]
     },
     "execution_count": 11,
     "metadata": {},
     "output_type": "execute_result"
    }
   ],
   "source": [
    "os.getcwd()"
   ]
  },
  {
   "cell_type": "code",
   "execution_count": 12,
   "id": "da224b80",
   "metadata": {},
   "outputs": [
    {
     "data": {
      "text/plain": [
       "['.ipynb_checkpoints',\n",
       " 'dog_breeds.txt',\n",
       " 'dog_breeds_capitalized.txt',\n",
       " 'files.PNG',\n",
       " 'python_intermediate.ipynb',\n",
       " 'rename_examples']"
      ]
     },
     "execution_count": 12,
     "metadata": {},
     "output_type": "execute_result"
    }
   ],
   "source": [
    "os.listdir()"
   ]
  },
  {
   "cell_type": "markdown",
   "id": "9432cffb",
   "metadata": {},
   "source": [
    "### Lets access one of the subfolders"
   ]
  },
  {
   "cell_type": "code",
   "execution_count": 13,
   "id": "1d0fc9d8",
   "metadata": {},
   "outputs": [
    {
     "data": {
      "text/plain": [
       "'C:\\\\Users\\\\Fardin\\\\Desktop\\\\Projects\\\\RIT AI lectures\\\\week_2\\\\rename_examples'"
      ]
     },
     "execution_count": 13,
     "metadata": {},
     "output_type": "execute_result"
    }
   ],
   "source": [
    "# This is called the Absolute path.\n",
    "path = os.getcwd() + '\\\\rename_examples'\n",
    "path"
   ]
  },
  {
   "cell_type": "code",
   "execution_count": 14,
   "id": "381e50b2",
   "metadata": {},
   "outputs": [
    {
     "data": {
      "text/plain": [
       "['file_1.txt', 'file_2.txt', 'file_3.txt']"
      ]
     },
     "execution_count": 14,
     "metadata": {},
     "output_type": "execute_result"
    }
   ],
   "source": [
    "os.listdir(path)"
   ]
  },
  {
   "cell_type": "markdown",
   "id": "d731d6e3",
   "metadata": {},
   "source": [
    "<img src='files.PNG'>"
   ]
  },
  {
   "cell_type": "markdown",
   "id": "af5fca34",
   "metadata": {},
   "source": [
    "<H1>\n",
    "____________________________________________________\n",
    "\n",
    "</H1>"
   ]
  },
  {
   "cell_type": "markdown",
   "id": "d6f0ff51",
   "metadata": {},
   "source": [
    "## Generators"
   ]
  },
  {
   "cell_type": "markdown",
   "id": "e8ef9a8b",
   "metadata": {},
   "source": [
    "Some recursive functions are very memory intensive, generator statements are functions where the previous recursed values are held in memory. This makes the code run a lot faster especially when you are working with large files such as videos.\n",
    "\n",
    "Almost all functions in computer vision and image processing are generators. As obviously, images have a large memory footprint."
   ]
  },
  {
   "cell_type": "code",
   "execution_count": 19,
   "id": "05e3efda",
   "metadata": {},
   "outputs": [
    {
     "name": "stdout",
     "output_type": "stream",
     "text": [
      "0\n",
      "1\n",
      "1\n",
      "2\n",
      "3\n",
      "5\n",
      "8\n",
      "13\n",
      "21\n",
      "34\n",
      "55\n",
      "89\n",
      "144\n",
      "233\n",
      "377\n",
      "610\n",
      "987\n",
      "1597\n",
      "2584\n",
      "4181\n"
     ]
    }
   ],
   "source": [
    "# Fibonacci recursive style\n",
    "def fib_func(n):\n",
    "    if n == 0 or n == 1:\n",
    "        return n\n",
    "    else:\n",
    "        return fib_func(n-1) + fib_func(n-2)\n",
    "\n",
    "for x in range(20):\n",
    "    print(fib_func(x))"
   ]
  },
  {
   "cell_type": "markdown",
   "id": "8b17af90",
   "metadata": {},
   "source": [
    "### Lets see how long this takes."
   ]
  },
  {
   "cell_type": "code",
   "execution_count": 21,
   "id": "e61e3610",
   "metadata": {},
   "outputs": [
    {
     "name": "stdout",
     "output_type": "stream",
     "text": [
      "54.9 µs ± 407 ns per loop (mean ± std. dev. of 7 runs, 10000 loops each)\n"
     ]
    }
   ],
   "source": [
    "%%timeit\n",
    "\n",
    "for x in range(10):\n",
    "    fib_func(x)"
   ]
  },
  {
   "cell_type": "markdown",
   "id": "72f0553b",
   "metadata": {},
   "source": [
    "### Same thing with a generator."
   ]
  },
  {
   "cell_type": "code",
   "execution_count": 22,
   "id": "17238f2a",
   "metadata": {},
   "outputs": [],
   "source": [
    "def fib_gen(n):\n",
    "    if n == 0 or n == 1:\n",
    "        yield n\n",
    "    else:\n",
    "        yield fib_gen(n-1) + fib_gen(n-2)"
   ]
  },
  {
   "cell_type": "code",
   "execution_count": 23,
   "id": "a01ece1e",
   "metadata": {},
   "outputs": [
    {
     "name": "stdout",
     "output_type": "stream",
     "text": [
      "3.6 µs ± 39.6 ns per loop (mean ± std. dev. of 7 runs, 100000 loops each)\n"
     ]
    }
   ],
   "source": [
    "%%timeit\n",
    "\n",
    "for x in range(10):\n",
    "    fib_gen(x)"
   ]
  },
  {
   "cell_type": "markdown",
   "id": "87c50646",
   "metadata": {},
   "source": [
    "#### Much faster!"
   ]
  },
  {
   "cell_type": "markdown",
   "id": "f30e2bc2",
   "metadata": {},
   "source": [
    "<H1>\n",
    "____________________________________________________\n",
    "\n",
    "</H1>"
   ]
  },
  {
   "cell_type": "markdown",
   "id": "91006ac4",
   "metadata": {},
   "source": [
    "## Functional programming"
   ]
  },
  {
   "cell_type": "markdown",
   "id": "1295031d",
   "metadata": {},
   "source": [
    "Functional programming is a programming paradigm that relies on functions to carry out most of computation. Mostly used in scientific and mathmatical computing as opposed to obeject oriented programming which is used in software development.\n",
    "\n",
    "Much like functions in math, you can chain and compose python functions too, and they form the backbone of functional programming. \n",
    "\n",
    "Functional programming is far to broad a topic to cover in a tutorial so refer to the python documentation;\n",
    "\n",
    "https://docs.python.org/3/howto/functional.html"
   ]
  },
  {
   "cell_type": "markdown",
   "id": "c618983c",
   "metadata": {},
   "source": [
    "### Lambda expressions/ annonymous functions"
   ]
  },
  {
   "cell_type": "code",
   "execution_count": 25,
   "id": "b5ca3fcd",
   "metadata": {},
   "outputs": [
    {
     "name": "stdout",
     "output_type": "stream",
     "text": [
      "3\n",
      "3\n"
     ]
    }
   ],
   "source": [
    "# Defined function\n",
    "def add(a,b):\n",
    "    return a + b\n",
    "\n",
    "add_anon = lambda a,b: a + b\n",
    "\n",
    "print(add(1,2))\n",
    "print(add_anon(1,2))"
   ]
  },
  {
   "cell_type": "markdown",
   "id": "8929c4b2",
   "metadata": {},
   "source": [
    "On the surface they look like the same thing, which in that way it is, but you can use annonymous functions without having defined it beforehand, which comes in handy a lot."
   ]
  },
  {
   "cell_type": "code",
   "execution_count": 28,
   "id": "0eb6a12b",
   "metadata": {},
   "outputs": [
    {
     "data": {
      "text/plain": [
       "[(1, 5), (3, 4), (5, 6)]"
      ]
     },
     "execution_count": 28,
     "metadata": {},
     "output_type": "execute_result"
    }
   ],
   "source": [
    "# Suppose I have this list with 1x2 tuple pairs.\n",
    "cartesian = [(1,5),(3,4),(5,6)]\n",
    "cartesian"
   ]
  },
  {
   "cell_type": "code",
   "execution_count": 29,
   "id": "51d89d2d",
   "metadata": {},
   "outputs": [
    {
     "data": {
      "text/plain": [
       "[(3, 4), (1, 5), (5, 6)]"
      ]
     },
     "execution_count": 29,
     "metadata": {},
     "output_type": "execute_result"
    }
   ],
   "source": [
    "# I can sort that list using a lambda expression.\n",
    "sorted(cartesian, key = lambda tup: tup[1])"
   ]
  },
  {
   "cell_type": "markdown",
   "id": "2e23d3cb",
   "metadata": {},
   "source": [
    "### Mapping"
   ]
  },
  {
   "cell_type": "code",
   "execution_count": 33,
   "id": "d4430328",
   "metadata": {},
   "outputs": [
    {
     "data": {
      "text/plain": [
       "[2, 3, 4]"
      ]
     },
     "execution_count": 33,
     "metadata": {},
     "output_type": "execute_result"
    }
   ],
   "source": [
    "# Example function that adds 1.\n",
    "def add_one(number):\n",
    "    return number + 1\n",
    "\n",
    "num_list = [add_one(x) for x in (1,2,3)]\n",
    "num_list"
   ]
  },
  {
   "cell_type": "code",
   "execution_count": 36,
   "id": "3c787c29",
   "metadata": {},
   "outputs": [
    {
     "data": {
      "text/plain": [
       "[2, 3, 4]"
      ]
     },
     "execution_count": 36,
     "metadata": {},
     "output_type": "execute_result"
    }
   ],
   "source": [
    "list(map(add_one,(1,2,3)))"
   ]
  },
  {
   "cell_type": "markdown",
   "id": "01a99c6b",
   "metadata": {},
   "source": [
    "##### WARNING: Mapping, filtering and reducing are common functional programming functions but according to the creators of python they are unpythonic and you should use list comprehensions instead."
   ]
  },
  {
   "cell_type": "markdown",
   "id": "de7dd61c",
   "metadata": {},
   "source": [
    "### Function composition"
   ]
  },
  {
   "cell_type": "markdown",
   "id": "f01eec2f",
   "metadata": {},
   "source": [
    "Similar to function composition in math.\n",
    "\n",
    "`f(g(x))` is a composed function that can be done in python too."
   ]
  },
  {
   "cell_type": "code",
   "execution_count": 39,
   "id": "c22e2442",
   "metadata": {},
   "outputs": [
    {
     "data": {
      "text/plain": [
       "12"
      ]
     },
     "execution_count": 39,
     "metadata": {},
     "output_type": "execute_result"
    }
   ],
   "source": [
    "# Function to add 2\n",
    "def f_x(x):\n",
    "    return x + 2\n",
    "  \n",
    "# Function to multiply 2\n",
    "def g_x(x):\n",
    "    return x * 2\n",
    "\n",
    "# Function composer\n",
    "def c(f, g):\n",
    "    return lambda x : f(g(x))\n",
    "  \n",
    "# Compose the functions\n",
    "composed = c(f_x, g_x)\n",
    "\n",
    "composed(5)"
   ]
  },
  {
   "cell_type": "markdown",
   "id": "0ce58cf4",
   "metadata": {},
   "source": [
    "The examples above are very elementary. Refer to the official python functional programming tutorial for more comprehensive details."
   ]
  },
  {
   "cell_type": "markdown",
   "id": "2bb41f86",
   "metadata": {},
   "source": [
    "## Object Oriented programming"
   ]
  },
  {
   "cell_type": "code",
   "execution_count": null,
   "id": "86c4b7b4",
   "metadata": {},
   "outputs": [],
   "source": []
  },
  {
   "cell_type": "code",
   "execution_count": null,
   "id": "f7949187",
   "metadata": {},
   "outputs": [],
   "source": []
  },
  {
   "cell_type": "code",
   "execution_count": null,
   "id": "7f88f979",
   "metadata": {},
   "outputs": [],
   "source": []
  }
 ],
 "metadata": {
  "kernelspec": {
   "display_name": "Python 3 (ipykernel)",
   "language": "python",
   "name": "python3"
  },
  "language_info": {
   "codemirror_mode": {
    "name": "ipython",
    "version": 3
   },
   "file_extension": ".py",
   "mimetype": "text/x-python",
   "name": "python",
   "nbconvert_exporter": "python",
   "pygments_lexer": "ipython3",
   "version": "3.8.12"
  }
 },
 "nbformat": 4,
 "nbformat_minor": 5
}
