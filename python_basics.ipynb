{
 "cells": [
  {
   "cell_type": "markdown",
   "id": "eb7ef063",
   "metadata": {},
   "source": [
    "\n",
    "\n",
    "<H1 align=\"center\">\n",
    "    Python For Engineers - Tutorial 1\n",
    "</H1>\n",
    "\n",
    "<H1 align=\"center\">\n",
    "    By Fardin Ahsan\n",
    "</H1>\n",
    "\n",
    "___________________________________\n",
    "\n",
    "# Introduction to python primitives"
   ]
  },
  {
   "cell_type": "markdown",
   "id": "ab816e23",
   "metadata": {},
   "source": [
    "<img src='flowchart.jpeg'>"
   ]
  },
  {
   "cell_type": "markdown",
   "id": "9b0a720a",
   "metadata": {},
   "source": [
    "## Comments"
   ]
  },
  {
   "cell_type": "code",
   "execution_count": 51,
   "id": "7a86b21c",
   "metadata": {},
   "outputs": [
    {
     "name": "stdout",
     "output_type": "stream",
     "text": [
      "Hello World\n"
     ]
    }
   ],
   "source": [
    "\"\"\"\n",
    "This is a multi line comment.\n",
    "It can be as many lines as you want.\n",
    "If you want you can take up 100 lines!\n",
    "Even more than that.\n",
    "Seriously, as many lines as you want.\n",
    "\n",
    "\n",
    "You can skip lines too.\n",
    "Or do this\n",
    "A\n",
    "A\n",
    "A\n",
    "A\n",
    "A\n",
    "A\n",
    "A\n",
    "A\n",
    "A\n",
    "A\n",
    "\n",
    "\"\"\"\n",
    "\n",
    "# This is a single line comment.\n",
    "\n",
    "\n",
    "print('Hello World') # This is an inline comment holding on to programming tradition"
   ]
  },
  {
   "cell_type": "markdown",
   "id": "e96f2d26",
   "metadata": {},
   "source": [
    "# Numbers"
   ]
  },
  {
   "cell_type": "markdown",
   "id": "fc0cabfd",
   "metadata": {},
   "source": [
    "## Integers"
   ]
  },
  {
   "cell_type": "code",
   "execution_count": 29,
   "id": "31881d55",
   "metadata": {},
   "outputs": [],
   "source": [
    "int_a = 1\n",
    "int_b = 2\n",
    "int_c = 3"
   ]
  },
  {
   "cell_type": "code",
   "execution_count": 35,
   "id": "4db4183a",
   "metadata": {},
   "outputs": [
    {
     "data": {
      "text/plain": [
       "-1"
      ]
     },
     "execution_count": 35,
     "metadata": {},
     "output_type": "execute_result"
    }
   ],
   "source": [
    "# Addition\n",
    "int_a + int_b - 4"
   ]
  },
  {
   "cell_type": "code",
   "execution_count": 31,
   "id": "340077e2",
   "metadata": {},
   "outputs": [
    {
     "data": {
      "text/plain": [
       "2"
      ]
     },
     "execution_count": 31,
     "metadata": {},
     "output_type": "execute_result"
    }
   ],
   "source": [
    "# Multiplication\n",
    "int_a * int_b"
   ]
  },
  {
   "cell_type": "code",
   "execution_count": 171,
   "id": "5eb7173e",
   "metadata": {},
   "outputs": [
    {
     "data": {
      "text/plain": [
       "8"
      ]
     },
     "execution_count": 171,
     "metadata": {},
     "output_type": "execute_result"
    }
   ],
   "source": [
    "# Exponentiation \n",
    "int_b ** int_c"
   ]
  },
  {
   "cell_type": "code",
   "execution_count": 32,
   "id": "2bca0c58",
   "metadata": {},
   "outputs": [
    {
     "data": {
      "text/plain": [
       "0.5"
      ]
     },
     "execution_count": 32,
     "metadata": {},
     "output_type": "execute_result"
    }
   ],
   "source": [
    "# Division\n",
    "int_a / int_b"
   ]
  },
  {
   "cell_type": "code",
   "execution_count": 33,
   "id": "1a66b29c",
   "metadata": {},
   "outputs": [
    {
     "data": {
      "text/plain": [
       "1"
      ]
     },
     "execution_count": 33,
     "metadata": {},
     "output_type": "execute_result"
    }
   ],
   "source": [
    "'''\n",
    "Floor division, divides then rounds down to an integer,\n",
    "This is similar to division in the C language\n",
    "\n",
    "'''\n",
    "int_c // int_b"
   ]
  },
  {
   "cell_type": "code",
   "execution_count": 34,
   "id": "0d1f7294",
   "metadata": {},
   "outputs": [
    {
     "data": {
      "text/plain": [
       "1"
      ]
     },
     "execution_count": 34,
     "metadata": {},
     "output_type": "execute_result"
    }
   ],
   "source": [
    "#The modulus operator gives the remainder\n",
    "\n",
    "int_c % int_b"
   ]
  },
  {
   "cell_type": "markdown",
   "id": "8823d0d0",
   "metadata": {},
   "source": [
    "## Complex"
   ]
  },
  {
   "cell_type": "code",
   "execution_count": 19,
   "id": "61618fdd",
   "metadata": {},
   "outputs": [],
   "source": [
    "cmplx_a = 1 + 2j\n",
    "cmplx_b = 2 + 3j"
   ]
  },
  {
   "cell_type": "code",
   "execution_count": 20,
   "id": "11db6f13",
   "metadata": {},
   "outputs": [
    {
     "data": {
      "text/plain": [
       "(3+5j)"
      ]
     },
     "execution_count": 20,
     "metadata": {},
     "output_type": "execute_result"
    }
   ],
   "source": [
    "# Addition\n",
    "cmplx_a + cmplx_b"
   ]
  },
  {
   "cell_type": "code",
   "execution_count": 21,
   "id": "12d65712",
   "metadata": {},
   "outputs": [
    {
     "data": {
      "text/plain": [
       "2.23606797749979"
      ]
     },
     "execution_count": 21,
     "metadata": {},
     "output_type": "execute_result"
    }
   ],
   "source": [
    "abs(cmplx_a)"
   ]
  },
  {
   "cell_type": "markdown",
   "id": "8166566f",
   "metadata": {},
   "source": [
    "## Float"
   ]
  },
  {
   "cell_type": "code",
   "execution_count": 36,
   "id": "7d401ea9",
   "metadata": {},
   "outputs": [],
   "source": [
    "float_a = 0.5\n",
    "float_b = 1.5"
   ]
  },
  {
   "cell_type": "code",
   "execution_count": 39,
   "id": "53af5b53",
   "metadata": {},
   "outputs": [
    {
     "data": {
      "text/plain": [
       "3.0"
      ]
     },
     "execution_count": 39,
     "metadata": {},
     "output_type": "execute_result"
    }
   ],
   "source": [
    "float_b / float_a"
   ]
  },
  {
   "cell_type": "markdown",
   "id": "16a741ee",
   "metadata": {},
   "source": [
    "________________________________"
   ]
  },
  {
   "cell_type": "markdown",
   "id": "48509327",
   "metadata": {},
   "source": [
    "# Booleans"
   ]
  },
  {
   "cell_type": "code",
   "execution_count": 40,
   "id": "f97e27c3",
   "metadata": {},
   "outputs": [],
   "source": [
    "bool_a = True\n",
    "bool_b = False"
   ]
  },
  {
   "cell_type": "code",
   "execution_count": 48,
   "id": "7e599878",
   "metadata": {},
   "outputs": [
    {
     "data": {
      "text/plain": [
       "False"
      ]
     },
     "execution_count": 48,
     "metadata": {},
     "output_type": "execute_result"
    }
   ],
   "source": [
    "# logical negation\n",
    "not bool_a"
   ]
  },
  {
   "cell_type": "code",
   "execution_count": 41,
   "id": "11d2926f",
   "metadata": {},
   "outputs": [
    {
     "data": {
      "text/plain": [
       "False"
      ]
     },
     "execution_count": 41,
     "metadata": {},
     "output_type": "execute_result"
    }
   ],
   "source": [
    "# Logical AND\n",
    "bool_a and bool_b"
   ]
  },
  {
   "cell_type": "code",
   "execution_count": 42,
   "id": "15c4526f",
   "metadata": {},
   "outputs": [
    {
     "data": {
      "text/plain": [
       "True"
      ]
     },
     "execution_count": 42,
     "metadata": {},
     "output_type": "execute_result"
    }
   ],
   "source": [
    "# Logical OR\n",
    "bool_a or bool_b"
   ]
  },
  {
   "cell_type": "code",
   "execution_count": 49,
   "id": "c296e089",
   "metadata": {},
   "outputs": [
    {
     "data": {
      "text/plain": [
       "True"
      ]
     },
     "execution_count": 49,
     "metadata": {},
     "output_type": "execute_result"
    }
   ],
   "source": [
    "# Logical XOR\n",
    "bool_a ^ bool_b"
   ]
  },
  {
   "cell_type": "markdown",
   "id": "3cbc2dee",
   "metadata": {},
   "source": [
    "______________________________________________________"
   ]
  },
  {
   "cell_type": "markdown",
   "id": "e0d36fbc",
   "metadata": {},
   "source": [
    "# Strings"
   ]
  },
  {
   "cell_type": "code",
   "execution_count": 52,
   "id": "cea69bb7",
   "metadata": {},
   "outputs": [],
   "source": [
    "string_a = \"Hello\"\n",
    "string_b = \"World\""
   ]
  },
  {
   "cell_type": "code",
   "execution_count": 53,
   "id": "06067678",
   "metadata": {},
   "outputs": [
    {
     "data": {
      "text/plain": [
       "'HelloWorld'"
      ]
     },
     "execution_count": 53,
     "metadata": {},
     "output_type": "execute_result"
    }
   ],
   "source": [
    "# concatenation\n",
    "string_a + string_b"
   ]
  },
  {
   "cell_type": "code",
   "execution_count": 54,
   "id": "e2e7c4c0",
   "metadata": {},
   "outputs": [
    {
     "data": {
      "text/plain": [
       "'Hello World'"
      ]
     },
     "execution_count": 54,
     "metadata": {},
     "output_type": "execute_result"
    }
   ],
   "source": [
    "# Better concatenation\n",
    "string_a + ' ' + string_b"
   ]
  },
  {
   "cell_type": "code",
   "execution_count": 55,
   "id": "cbfb6a3d",
   "metadata": {},
   "outputs": [
    {
     "data": {
      "text/plain": [
       "'Hel'"
      ]
     },
     "execution_count": 55,
     "metadata": {},
     "output_type": "execute_result"
    }
   ],
   "source": [
    "# Slicing \n",
    "string_a[0:3]"
   ]
  },
  {
   "cell_type": "code",
   "execution_count": 57,
   "id": "5efa0c9e",
   "metadata": {},
   "outputs": [
    {
     "name": "stdout",
     "output_type": "stream",
     "text": [
      "H\n",
      "e\n",
      "l\n",
      "l\n",
      "o\n"
     ]
    }
   ],
   "source": [
    "# Iterating\n",
    "for letter in string_a:\n",
    "    print(letter)"
   ]
  },
  {
   "cell_type": "code",
   "execution_count": 58,
   "id": "9fd8ce96",
   "metadata": {},
   "outputs": [
    {
     "data": {
      "text/plain": [
       "'HELLO'"
      ]
     },
     "execution_count": 58,
     "metadata": {},
     "output_type": "execute_result"
    }
   ],
   "source": [
    "# String methods\n",
    "# Note there are way too many I am going to show only one!\n",
    "\n",
    "string_a.upper()"
   ]
  },
  {
   "cell_type": "code",
   "execution_count": 73,
   "id": "e52d64b5",
   "metadata": {},
   "outputs": [
    {
     "name": "stdout",
     "output_type": "stream",
     "text": [
      "The sum of 1 and 2 is 3.\n",
      "The sum of 1 and 2 is 3.\n"
     ]
    }
   ],
   "source": [
    "'''\n",
    "String concateration and slicing is amateurish and non pythonic.\n",
    "\n",
    "In python development it is reccomended to use use f strings.\n",
    "\n",
    "Because it looks so much better!\n",
    "\n",
    "And as we know from before, in python sometimes better looking is actually better.\n",
    "\n",
    "'''\n",
    "# Peasant Tier\n",
    "print('The sum of ' + str(int_a) + ' and ' + str(int_b) + ' is ' + str((int_a + int_b)) + '.')\n",
    "      \n",
    "\n",
    "# God Tier\n",
    "print(f'The sum of {int_a} and {int_b} is {int_a + int_b}.')"
   ]
  },
  {
   "cell_type": "markdown",
   "id": "9955e46a",
   "metadata": {},
   "source": [
    "____________________________________________________________________"
   ]
  },
  {
   "cell_type": "markdown",
   "id": "044b381f",
   "metadata": {},
   "source": [
    "# Containers"
   ]
  },
  {
   "cell_type": "markdown",
   "id": "ae40c503",
   "metadata": {},
   "source": [
    "## Lists"
   ]
  },
  {
   "cell_type": "markdown",
   "id": "598d6861",
   "metadata": {},
   "source": [
    "Lists are the most commonly used contained in python.\n",
    "Lists are iterable, mutable."
   ]
  },
  {
   "cell_type": "code",
   "execution_count": 102,
   "id": "615e5173",
   "metadata": {},
   "outputs": [
    {
     "data": {
      "text/plain": [
       "[1, 0.5, 'Hello', [1, 2, 3]]"
      ]
     },
     "execution_count": 102,
     "metadata": {},
     "output_type": "execute_result"
    }
   ],
   "source": [
    "list_a = [1,2,3]\n",
    "list_b = [int_a,float_a,string_a,list_a]\n",
    "\n",
    "list_b"
   ]
  },
  {
   "cell_type": "code",
   "execution_count": 103,
   "id": "02e1e00e",
   "metadata": {},
   "outputs": [
    {
     "data": {
      "text/plain": [
       "[1, 0.5, 'Hello', [1, 2, 3], 1, 2, 3]"
      ]
     },
     "execution_count": 103,
     "metadata": {},
     "output_type": "execute_result"
    }
   ],
   "source": [
    "#Lists are mutable\n",
    "list_b + list_a"
   ]
  },
  {
   "cell_type": "code",
   "execution_count": 146,
   "id": "f89ffb8d",
   "metadata": {},
   "outputs": [
    {
     "data": {
      "text/plain": [
       "[1, 2, 3]"
      ]
     },
     "execution_count": 146,
     "metadata": {},
     "output_type": "execute_result"
    }
   ],
   "source": [
    "# Accesing an item in the list\n",
    "list_b[3]"
   ]
  },
  {
   "cell_type": "markdown",
   "id": "fb0839c9",
   "metadata": {},
   "source": [
    "## Tuples"
   ]
  },
  {
   "cell_type": "markdown",
   "id": "58d58321",
   "metadata": {},
   "source": [
    "Tuples are iterable, immutable, but are useful in development because they can be unpacked."
   ]
  },
  {
   "cell_type": "code",
   "execution_count": 104,
   "id": "496eee0a",
   "metadata": {},
   "outputs": [],
   "source": [
    "tuple_a = (1,2,3,4,5,'a')"
   ]
  },
  {
   "cell_type": "code",
   "execution_count": 105,
   "id": "97125b1b",
   "metadata": {},
   "outputs": [],
   "source": [
    "# Unpacking the tuple\n",
    "one,two,*three_and_more = tuple_a"
   ]
  },
  {
   "cell_type": "code",
   "execution_count": 106,
   "id": "856e3154",
   "metadata": {},
   "outputs": [
    {
     "data": {
      "text/plain": [
       "1"
      ]
     },
     "execution_count": 106,
     "metadata": {},
     "output_type": "execute_result"
    }
   ],
   "source": [
    "# Unpacked values are variables\n",
    "one"
   ]
  },
  {
   "cell_type": "code",
   "execution_count": 107,
   "id": "ba9c6e4b",
   "metadata": {},
   "outputs": [
    {
     "data": {
      "text/plain": [
       "2"
      ]
     },
     "execution_count": 107,
     "metadata": {},
     "output_type": "execute_result"
    }
   ],
   "source": [
    "two"
   ]
  },
  {
   "cell_type": "code",
   "execution_count": 108,
   "id": "e29b68fe",
   "metadata": {},
   "outputs": [
    {
     "data": {
      "text/plain": [
       "[3, 4, 5, 'a']"
      ]
     },
     "execution_count": 108,
     "metadata": {},
     "output_type": "execute_result"
    }
   ],
   "source": [
    "# Multiple unpacked are a list\n",
    "three_and_more"
   ]
  },
  {
   "cell_type": "markdown",
   "id": "a1c86650",
   "metadata": {},
   "source": [
    "## Sets"
   ]
  },
  {
   "cell_type": "markdown",
   "id": "3ef9745a",
   "metadata": {},
   "source": [
    "Python sets are datastructures that mimic mathmatical sets.\n",
    "\n",
    "\n",
    "$\\{x \\mid x \\text{ is positive and even}\\}$ \n",
    "\n",
    "=\n",
    "\n",
    "$\\{2, 4, 6, 8\\dots\\}$ \n"
   ]
  },
  {
   "cell_type": "code",
   "execution_count": 109,
   "id": "99fe178a",
   "metadata": {},
   "outputs": [],
   "source": [
    "set_a = {1,2,3}\n",
    "set_b = {3,4,5}"
   ]
  },
  {
   "cell_type": "code",
   "execution_count": 110,
   "id": "6d5f2caf",
   "metadata": {},
   "outputs": [
    {
     "data": {
      "text/plain": [
       "{3}"
      ]
     },
     "execution_count": 110,
     "metadata": {},
     "output_type": "execute_result"
    }
   ],
   "source": [
    "# Intersection\n",
    "set_a & set_b"
   ]
  },
  {
   "cell_type": "code",
   "execution_count": 112,
   "id": "9d80b901",
   "metadata": {},
   "outputs": [
    {
     "data": {
      "text/plain": [
       "{1, 2, 3, 4, 5}"
      ]
     },
     "execution_count": 112,
     "metadata": {},
     "output_type": "execute_result"
    }
   ],
   "source": [
    "# Union\n",
    "set_a | set_b"
   ]
  },
  {
   "cell_type": "markdown",
   "id": "32e5f2ea",
   "metadata": {},
   "source": [
    "_____________________________________"
   ]
  },
  {
   "cell_type": "markdown",
   "id": "7d6e2c1d",
   "metadata": {},
   "source": [
    "## Dictionary"
   ]
  },
  {
   "cell_type": "markdown",
   "id": "fcbfbb11",
   "metadata": {},
   "source": [
    "Dictionaries are containers where you strore data with key value pairs."
   ]
  },
  {
   "cell_type": "code",
   "execution_count": 116,
   "id": "e50e4377",
   "metadata": {},
   "outputs": [],
   "source": [
    "dict_a = {'one':1,\n",
    "          'two':2,\n",
    "          3:'Three'}"
   ]
  },
  {
   "cell_type": "code",
   "execution_count": 117,
   "id": "2e99ea4d",
   "metadata": {},
   "outputs": [
    {
     "data": {
      "text/plain": [
       "1"
      ]
     },
     "execution_count": 117,
     "metadata": {},
     "output_type": "execute_result"
    }
   ],
   "source": [
    "#Acess one\n",
    "dict_a['one']"
   ]
  },
  {
   "cell_type": "code",
   "execution_count": 118,
   "id": "5aa36f0c",
   "metadata": {},
   "outputs": [
    {
     "data": {
      "text/plain": [
       "'Three'"
      ]
     },
     "execution_count": 118,
     "metadata": {},
     "output_type": "execute_result"
    }
   ],
   "source": [
    "#Access the string 'Three'\n",
    "dict_a[3]"
   ]
  },
  {
   "cell_type": "markdown",
   "id": "b79f896c",
   "metadata": {},
   "source": [
    "____________________________________________________________________________________"
   ]
  },
  {
   "cell_type": "markdown",
   "id": "173b5e11",
   "metadata": {},
   "source": [
    "# Control flow"
   ]
  },
  {
   "cell_type": "markdown",
   "id": "67ae121c",
   "metadata": {},
   "source": [
    "Control flow is how the programs consecutive instruvtions are structured."
   ]
  },
  {
   "cell_type": "markdown",
   "id": "ac4b151e",
   "metadata": {},
   "source": [
    "## Conditional statements"
   ]
  },
  {
   "cell_type": "code",
   "execution_count": 123,
   "id": "2a0d80d3",
   "metadata": {},
   "outputs": [],
   "source": [
    "four = 4\n",
    "five = 5\n",
    "six = 6"
   ]
  },
  {
   "cell_type": "code",
   "execution_count": 127,
   "id": "a6e57bfe",
   "metadata": {},
   "outputs": [
    {
     "name": "stdout",
     "output_type": "stream",
     "text": [
      "five is bigger than four\n"
     ]
    }
   ],
   "source": [
    "if five >= four:\n",
    "    print('five is bigger than four')"
   ]
  },
  {
   "cell_type": "code",
   "execution_count": 128,
   "id": "d3abf644",
   "metadata": {},
   "outputs": [
    {
     "name": "stdout",
     "output_type": "stream",
     "text": [
      "That can't be true\n"
     ]
    }
   ],
   "source": [
    "if five < four:\n",
    "    print('five is bigger than four')\n",
    "else:\n",
    "    print(\"That can't be true\")"
   ]
  },
  {
   "cell_type": "code",
   "execution_count": 129,
   "id": "42f6e97f",
   "metadata": {},
   "outputs": [
    {
     "name": "stdout",
     "output_type": "stream",
     "text": [
      "6 is bigger than 5\n"
     ]
    }
   ],
   "source": [
    "if five < four:\n",
    "    print('five is bigger than four')\n",
    "    \n",
    "elif six > 5:\n",
    "    print('6 is bigger than 5')\n",
    "\n",
    "else:\n",
    "    print(\"That can't be true\")"
   ]
  },
  {
   "cell_type": "markdown",
   "id": "67af08ed",
   "metadata": {},
   "source": [
    "______________________________________________________________________"
   ]
  },
  {
   "cell_type": "markdown",
   "id": "481a1e4a",
   "metadata": {},
   "source": [
    "## While loops"
   ]
  },
  {
   "cell_type": "code",
   "execution_count": 136,
   "id": "a198fa60",
   "metadata": {},
   "outputs": [
    {
     "name": "stdout",
     "output_type": "stream",
     "text": [
      "0\n",
      "1\n",
      "2\n",
      "3\n",
      "4\n",
      "5\n"
     ]
    }
   ],
   "source": [
    "# Loop until come sort of condition is met\n",
    "\n",
    "counter = 0\n",
    "\n",
    "while counter <= 5:\n",
    "    print(counter)\n",
    "    counter += 1"
   ]
  },
  {
   "cell_type": "code",
   "execution_count": 139,
   "id": "4ab72114",
   "metadata": {},
   "outputs": [
    {
     "name": "stdout",
     "output_type": "stream",
     "text": [
      "0\n",
      "1\n",
      "2\n",
      "3\n",
      "4\n",
      "5\n"
     ]
    }
   ],
   "source": [
    "# You can control the flow from inside of the loop too\n",
    "\n",
    "counter = 0\n",
    "\n",
    "while True:  # infinte loop\n",
    "    \n",
    "    # Control flow inside of loop\n",
    "    if counter > 5:\n",
    "        break\n",
    "    \n",
    "    print(counter)\n",
    "    counter += 1"
   ]
  },
  {
   "cell_type": "markdown",
   "id": "ff016102",
   "metadata": {},
   "source": [
    "___________________________________________________"
   ]
  },
  {
   "cell_type": "markdown",
   "id": "82d2da72",
   "metadata": {},
   "source": [
    "## For loops"
   ]
  },
  {
   "cell_type": "markdown",
   "id": "8845d4ef",
   "metadata": {},
   "source": [
    "For loops in python are not like the for loops in C or matlab. Where you set a loop counter and loop till the counter runs out.\n",
    "\n",
    "In python for loops are for each loops, which means the loop runs over every element in an iterable or a container."
   ]
  },
  {
   "cell_type": "code",
   "execution_count": 140,
   "id": "2ab50ccf",
   "metadata": {},
   "outputs": [
    {
     "name": "stdout",
     "output_type": "stream",
     "text": [
      "0\n",
      "1\n",
      "2\n",
      "3\n",
      "4\n",
      "5\n"
     ]
    }
   ],
   "source": [
    "# Standard python for loop.\n",
    "\n",
    "# The range() function is a contrainer, it looks like [0,1,2,3,4,5]\n",
    "for number in range(6):\n",
    "    print(number)"
   ]
  },
  {
   "cell_type": "markdown",
   "id": "3d273726",
   "metadata": {},
   "source": [
    "### Iterating over containers. "
   ]
  },
  {
   "cell_type": "code",
   "execution_count": 143,
   "id": "10cf5c99",
   "metadata": {},
   "outputs": [
    {
     "data": {
      "text/plain": [
       "[1, 0.5, 'Hello', [1, 2, 3]]"
      ]
     },
     "execution_count": 143,
     "metadata": {},
     "output_type": "execute_result"
    }
   ],
   "source": [
    "list_b"
   ]
  },
  {
   "cell_type": "code",
   "execution_count": 142,
   "id": "3ef7c03b",
   "metadata": {},
   "outputs": [
    {
     "name": "stdout",
     "output_type": "stream",
     "text": [
      "1\n",
      "0.5\n",
      "Hello\n",
      "[1, 2, 3]\n"
     ]
    }
   ],
   "source": [
    "#For loops iterate\n",
    "# This is the pythonic way to do it.\n",
    "\n",
    "for item in list_b:\n",
    "    print(item)"
   ]
  },
  {
   "cell_type": "code",
   "execution_count": 144,
   "id": "4fa32738",
   "metadata": {},
   "outputs": [
    {
     "name": "stdout",
     "output_type": "stream",
     "text": [
      "1\n",
      "0.5\n",
      "Hello\n",
      "[1, 2, 3]\n"
     ]
    }
   ],
   "source": [
    "# Don't do this! This is ugly.\n",
    "# This is how those who come from C do it, this is unpythonic.\n",
    "\n",
    "for index in range(len(list_b)):\n",
    "    print(list_b[index])"
   ]
  },
  {
   "cell_type": "code",
   "execution_count": 148,
   "id": "809699ac",
   "metadata": {},
   "outputs": [
    {
     "name": "stdout",
     "output_type": "stream",
     "text": [
      "index = 0, item = 1\n",
      "index = 1, item = 0.5\n",
      "index = 2, item = Hello\n",
      "index = 3, item = [1, 2, 3]\n"
     ]
    }
   ],
   "source": [
    "# If you absolutely need the index, do this.\n",
    "\n",
    "for index,item in enumerate(list_b):\n",
    "    print(f'index = {index}, item = {item}')"
   ]
  },
  {
   "cell_type": "markdown",
   "id": "41bad2de",
   "metadata": {},
   "source": [
    "____________________________________________________________________________"
   ]
  },
  {
   "cell_type": "markdown",
   "id": "b921346f",
   "metadata": {},
   "source": [
    "# Structure"
   ]
  },
  {
   "cell_type": "markdown",
   "id": "302c530d",
   "metadata": {},
   "source": [
    "Your code will get extremely unweidly very quickly if you just write line by line using primitives, so we can use functions and classes to factorize our code.\n",
    "\n",
    "Factorizing code is called refactoring. It is the same idea as factorizing a mathmatical expression."
   ]
  },
  {
   "cell_type": "markdown",
   "id": "85fd8d26",
   "metadata": {},
   "source": [
    "## Functions\n",
    "\n"
   ]
  },
  {
   "cell_type": "markdown",
   "id": "06e539ad",
   "metadata": {},
   "source": [
    "For not reapeating code over and over again."
   ]
  },
  {
   "cell_type": "code",
   "execution_count": 152,
   "id": "e769f48a",
   "metadata": {},
   "outputs": [
    {
     "name": "stdout",
     "output_type": "stream",
     "text": [
      "A\n",
      "B\n",
      "C\n",
      "D\n",
      "E\n",
      "F\n",
      "G\n"
     ]
    }
   ],
   "source": [
    "# Argument less function\n",
    "def print_letters():\n",
    "    for letter in \"ABCDEFG\":\n",
    "        print(letter)\n",
    "        \n",
    "print_letters()"
   ]
  },
  {
   "cell_type": "code",
   "execution_count": 154,
   "id": "7eb81e8b",
   "metadata": {},
   "outputs": [
    {
     "data": {
      "text/plain": [
       "3.145"
      ]
     },
     "execution_count": 154,
     "metadata": {},
     "output_type": "execute_result"
    }
   ],
   "source": [
    "# Functions with argument\n",
    "def area_of_circle(radius):\n",
    "    return 3.145*((radius)**2)\n",
    "\n",
    "area_of_circle(1)"
   ]
  },
  {
   "cell_type": "markdown",
   "id": "a089ab1c",
   "metadata": {},
   "source": [
    "## Classes"
   ]
  },
  {
   "cell_type": "markdown",
   "id": "7a3585ff",
   "metadata": {},
   "source": [
    "Classes are a step above functions, they are objects that have attributes and functions, this makes your code even cleaner than just using functions could."
   ]
  },
  {
   "cell_type": "code",
   "execution_count": 164,
   "id": "4969b338",
   "metadata": {},
   "outputs": [],
   "source": [
    "# Basic class definition.\n",
    "class Square:\n",
    "    def __init__(self,breadth,width):\n",
    "        self.breadth = breadth\n",
    "        self.width = width\n",
    "        \n",
    "    def area(self):\n",
    "        return self.width * self.breadth\n",
    "    \n",
    "    def perimeter(self):\n",
    "        return 2*(self.width) + 2*(self.breadth)"
   ]
  },
  {
   "cell_type": "code",
   "execution_count": 165,
   "id": "74695406",
   "metadata": {},
   "outputs": [],
   "source": [
    "my_square = Square(2,4)"
   ]
  },
  {
   "cell_type": "code",
   "execution_count": 166,
   "id": "7876600b",
   "metadata": {},
   "outputs": [
    {
     "data": {
      "text/plain": [
       "2"
      ]
     },
     "execution_count": 166,
     "metadata": {},
     "output_type": "execute_result"
    }
   ],
   "source": [
    "my_square.breadth"
   ]
  },
  {
   "cell_type": "code",
   "execution_count": 167,
   "id": "af0eef04",
   "metadata": {},
   "outputs": [
    {
     "data": {
      "text/plain": [
       "4"
      ]
     },
     "execution_count": 167,
     "metadata": {},
     "output_type": "execute_result"
    }
   ],
   "source": [
    "my_square.width"
   ]
  },
  {
   "cell_type": "code",
   "execution_count": 168,
   "id": "78508221",
   "metadata": {},
   "outputs": [
    {
     "data": {
      "text/plain": [
       "8"
      ]
     },
     "execution_count": 168,
     "metadata": {},
     "output_type": "execute_result"
    }
   ],
   "source": [
    "my_square.area()"
   ]
  },
  {
   "cell_type": "code",
   "execution_count": 169,
   "id": "7a5b8f90",
   "metadata": {},
   "outputs": [
    {
     "data": {
      "text/plain": [
       "12"
      ]
     },
     "execution_count": 169,
     "metadata": {},
     "output_type": "execute_result"
    }
   ],
   "source": [
    "my_square.perimeter()"
   ]
  },
  {
   "cell_type": "markdown",
   "id": "c1ee13c3",
   "metadata": {},
   "source": [
    "_______________________________________________________________________________"
   ]
  },
  {
   "cell_type": "markdown",
   "id": "d1d978d6",
   "metadata": {},
   "source": [
    "# Thank You! Any questions?"
   ]
  }
 ],
 "metadata": {
  "kernelspec": {
   "display_name": "Python 3",
   "language": "python",
   "name": "python3"
  },
  "language_info": {
   "codemirror_mode": {
    "name": "ipython",
    "version": 3
   },
   "file_extension": ".py",
   "mimetype": "text/x-python",
   "name": "python",
   "nbconvert_exporter": "python",
   "pygments_lexer": "ipython3",
   "version": "3.8.5"
  }
 },
 "nbformat": 4,
 "nbformat_minor": 5
}
