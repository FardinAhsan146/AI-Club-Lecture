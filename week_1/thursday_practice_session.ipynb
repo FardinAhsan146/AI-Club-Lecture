{
 "cells": [
  {
   "cell_type": "markdown",
   "id": "395cfadd",
   "metadata": {},
   "source": [
    "# Python practice session control flow and structure."
   ]
  },
  {
   "cell_type": "markdown",
   "id": "010ac3eb",
   "metadata": {},
   "source": [
    "## Q.1 Write a program that prints 'fizz' if a number is evenly divisible by 3, 'buzz' if its evenly divisible by 5 and 'fizzbuzz' if its evenly divisible by both 3 and 5, Else just print the number. Print from [1,16].\n",
    "\n",
    "\n",
    "### Your output should look like this ;\n",
    "```\n",
    "1\n",
    "2\n",
    "fizz\n",
    "4\n",
    "buzz\n",
    "fizz\n",
    ".\n",
    ".\n",
    ".\n",
    "13\n",
    "14\n",
    "fizzbuzz\n",
    "\n",
    "```"
   ]
  },
  {
   "cell_type": "markdown",
   "id": "4f0d340d",
   "metadata": {},
   "source": [
    "### Straightforward solution."
   ]
  },
  {
   "cell_type": "code",
   "execution_count": 11,
   "id": "4ebcad08",
   "metadata": {
    "scrolled": true
   },
   "outputs": [
    {
     "name": "stdout",
     "output_type": "stream",
     "text": [
      "1\n",
      "2\n",
      "fizz\n",
      "4\n",
      "buzz\n",
      "fizz\n",
      "7\n",
      "8\n",
      "fizz\n",
      "buzz\n",
      "11\n",
      "fizz\n",
      "13\n",
      "14\n",
      "fizzbuzz\n"
     ]
    }
   ],
   "source": [
    "'''\n",
    "This is the most straightforward solution to the problem above.\n",
    "This is NOT the only solution but its the one that makes the most intuitive sense.\n",
    "\n",
    "'''\n",
    "\n",
    "for number in range(1,16):\n",
    "    if number % 3 == 0 and number % 5 == 0:\n",
    "        print('fizzbuzz')\n",
    "    elif number % 3 == 0:\n",
    "        print('fizz')\n",
    "    elif number % 5 == 0:\n",
    "        print('buzz')\n",
    "    else:\n",
    "        print(number)"
   ]
  },
  {
   "cell_type": "markdown",
   "id": "a13ce3eb",
   "metadata": {},
   "source": [
    "### Inspect this carefully. "
   ]
  },
  {
   "cell_type": "code",
   "execution_count": 1,
   "id": "af877956",
   "metadata": {
    "scrolled": false
   },
   "outputs": [
    {
     "name": "stdout",
     "output_type": "stream",
     "text": [
      "1\n",
      "2\n",
      "fizz\n",
      "4\n",
      "buzz\n",
      "fizz\n",
      "7\n",
      "8\n",
      "fizz\n",
      "buzz\n",
      "11\n",
      "fizz\n",
      "13\n",
      "14\n",
      "fizzbuzz\n"
     ]
    }
   ],
   "source": [
    "'''\n",
    "This is a \"clever\" solution, its not really faster than the code above, or easier to understand. \n",
    "Thus its worse than the previous solution in every way that matters.\n",
    "But it can help you understand how python primitives work a bit more clearly. \n",
    "Especially strings and booleans.\n",
    "\n",
    "However take note, if a solution is complicated and not more performant. It's not worth it.\n",
    "\n",
    "This is just showing some string/boolean hacking black magic, its not reccomended you write code like this.\n",
    "'''\n",
    "\n",
    "for i in range(1,16):\n",
    "    print('fizz'*(i % 3 == 0) + 'buzz'*(i % 5 == 0) + str(i)*(i % 3 != 0 and  i % 5 != 0))"
   ]
  },
  {
   "cell_type": "markdown",
   "id": "31db1f82",
   "metadata": {},
   "source": [
    "# Q.2) Write a class that takes your birthday as an attribute.\n",
    "\n",
    "### And has 2 methods that tell you;\n",
    "\n",
    "### 1. How old you are today. In years, and weeks.\n",
    "##### (Use datetime library for above)\n",
    "##### Use this format 'dd/mm/yyyy'\n",
    "##### Note: your input should be 1 string. Parsing that string into dates is a part of the task.\n",
    "\n",
    "### 2. Were you born on a leap year or not?\n",
    "____________________________________________________________________\n",
    "### A leap year is exactly divisible by 4 except for century years (years ending with 00). The century year is a leap year only if it is perfectly divisible by 400. \n",
    "\n",
    "### Implement this algorithm.\n",
    "\n",
    "1. If the year is evenly divisible by 4, go to step 2. Otherwise, go to step 5.\n",
    "2. If the year is evenly divisible by 100, go to step 3. Otherwise, go to step 4.\n",
    "3. If the year is evenly divisible by 400, go to step 4. Otherwise, go to step 5.\n",
    "4. The year is a leap year (it has 366 days).\n",
    "5. The year is not a leap year (it has 365 days).\n",
    "\n",
    "\n"
   ]
  },
  {
   "cell_type": "code",
   "execution_count": 28,
   "id": "8d134d1a",
   "metadata": {},
   "outputs": [],
   "source": [
    "import re\n",
    "from datetime import datetime\n",
    "\n",
    "'''\n",
    "The datetime library is a bit outdated and isn't really meant for front end prompts.\n",
    "Therefore what I did here isn't a realistic usecase for the library hence me having to fiddle with time convertions.\n",
    "\n",
    "There are newer and better libraries where you can work with datetime objects much more simply,\n",
    "and with much cleaner looking code.\n",
    "\n",
    "However, I used datetime because its very commonly used and because it comes built in with python.\n",
    "'''\n",
    "class Year:\n",
    "    \n",
    "    def __init__(self,date_of_birth):\n",
    "        self.date_of_birth = date_of_birth\n",
    "        \n",
    "    def ageSentence(self):\n",
    "        \n",
    "        # This line turns the date into an datetime object\n",
    "        dob_object = \\\n",
    "        datetime.strptime(self.date_of_birth, \"%d/%m/%Y\") \n",
    "        \n",
    "        # This returns a datetime object with present info\n",
    "        now_object = datetime.now()                       \n",
    "        \n",
    "        # Time delta object\n",
    "        time_diff = (datetime.now() \\\n",
    "                     - datetime.strptime(self.date_of_birth, \"%d/%m/%Y\"))\n",
    "        \n",
    "        # Converting to days\n",
    "        seconds_to_add = time_diff.seconds/(24*60**2)  \n",
    "        \n",
    "        # Pulling out the number of days delta\n",
    "        days = time_diff.days                             \n",
    "        \n",
    "        \n",
    "        # Helper function, NOT A METHOD\n",
    "        def daysToString(days):\n",
    "        \n",
    "            # Conversion of days in to years, weeks and days\n",
    "            years = (days // 365)\n",
    "\n",
    "            return f\"You are {years} years and {weeks} weeks old.\"\n",
    "        \n",
    "        return daysToString(days + seconds_to_add)\n",
    "    \n",
    "    def isLeapYear(self):\n",
    "        '''\n",
    "        Returns a string telling if your year is a leap year.\n",
    "\n",
    "        '''\n",
    "        dob_object = \\\n",
    "        datetime.strptime(self.date_of_birth, \"%d/%m/%Y\") \n",
    "        year = dob_object.year\n",
    "        \n",
    "        _yes = f'Yes, {year} is a leap year.'\n",
    "        _no  = f'No, {year} is not a leap year.'\n",
    "\n",
    "        if year % 4 == 0:\n",
    "            if year % 100 == 0:\n",
    "                if year % 400 == 0:\n",
    "                    return _yes\n",
    "                else:\n",
    "                    return _no\n",
    "            else:\n",
    "                return _yes\n",
    "        else:\n",
    "            return _no"
   ]
  },
  {
   "cell_type": "code",
   "execution_count": 36,
   "id": "5409a363",
   "metadata": {},
   "outputs": [
    {
     "name": "stdout",
     "output_type": "stream",
     "text": [
      "You are 23.0 years and 50.0 weeks old. \n",
      "And No 1997 is not a leap year.\n"
     ]
    }
   ],
   "source": [
    "'''\n",
    "Using\n",
    "\n",
    "'''\n",
    "\n",
    "\n",
    "my_dob = '01/12/1997'\n",
    "\n",
    "year_object = Year(my_dob)\n",
    "\n",
    "ly_method = year_object.isLeapYear()\n",
    "as_method = year_object.ageSentence()\n",
    "\n",
    "print(f'{as_method} \\nAnd {ly_method}')"
   ]
  },
  {
   "cell_type": "code",
   "execution_count": null,
   "id": "1b0da7e5",
   "metadata": {},
   "outputs": [],
   "source": []
  }
 ],
 "metadata": {
  "kernelspec": {
   "display_name": "Python 3 (ipykernel)",
   "language": "python",
   "name": "python3"
  },
  "language_info": {
   "codemirror_mode": {
    "name": "ipython",
    "version": 3
   },
   "file_extension": ".py",
   "mimetype": "text/x-python",
   "name": "python",
   "nbconvert_exporter": "python",
   "pygments_lexer": "ipython3",
   "version": "3.8.12"
  }
 },
 "nbformat": 4,
 "nbformat_minor": 5
}
