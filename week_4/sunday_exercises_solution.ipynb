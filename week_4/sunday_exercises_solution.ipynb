{
 "cells": [
  {
   "cell_type": "markdown",
   "id": "f9357f5c",
   "metadata": {},
   "source": [
    "### Monte Carlo approximation of pi"
   ]
  },
  {
   "cell_type": "code",
   "execution_count": 1,
   "id": "2331d922",
   "metadata": {},
   "outputs": [
    {
     "data": {
      "text/plain": [
       "3.143124"
      ]
     },
     "execution_count": 1,
     "metadata": {},
     "output_type": "execute_result"
    }
   ],
   "source": [
    "import random\n",
    "\n",
    "# Number of points relative space in a circle/square\n",
    "inside = 0\n",
    "outside = 0\n",
    "\n",
    "# The higher the range the more accurate the approximations\n",
    "for _ in range(1000000):\n",
    "    \n",
    "    # Random point in space bewteen 0 and 1\n",
    "    x_cord,y_cord = random.uniform(0,1),random.uniform(0,1)\n",
    "    \n",
    "    # Check if point is inside or outside circle\n",
    "    if ((x_cord**2 + y_cord**2))**0.5 <= 1:\n",
    "        inside += 1\n",
    "    else:\n",
    "        outside +=1\n",
    "\n",
    "# Take ratio of randomly generated points.\n",
    "# Using the Monte-Carlo ratio from Wikipeadia.\n",
    "(inside*4)/(inside + outside)"
   ]
  },
  {
   "cell_type": "markdown",
   "id": "17370ea8",
   "metadata": {},
   "source": [
    "### Digit sum"
   ]
  },
  {
   "cell_type": "code",
   "execution_count": 2,
   "id": "484aba2b",
   "metadata": {},
   "outputs": [
    {
     "name": "stdout",
     "output_type": "stream",
     "text": [
      "Digit sum of 11 is 2.\n",
      "Digit sum of 22 is 4.\n",
      "Digit sum of 33 is 6.\n",
      "Digit sum of 44 is 8.\n"
     ]
    }
   ],
   "source": [
    "def digit_sum(num):\n",
    "    \n",
    "    # Add the residuals here\n",
    "    dig_sum = 0\n",
    "    \n",
    "    # Run the loop while the number is not 0\n",
    "    while num:\n",
    "        \n",
    "        # Take out the last digit\n",
    "        x = num % 10\n",
    "        \n",
    "        # Add it\n",
    "        dig_sum += x\n",
    "        \n",
    "        # Remove that digit\n",
    "        num -= x\n",
    "        \n",
    "        # Divide by 10 to get rid to reduce digit (integer divisio to avoid float tomfoolery)\n",
    "        num //= 10\n",
    "        \n",
    "    return dig_sum\n",
    "        \n",
    "for _ in range(11,55,11):\n",
    "    print(f'Digit sum of {_} is {digit_sum(_)}.')"
   ]
  },
  {
   "cell_type": "markdown",
   "id": "5510e8f7",
   "metadata": {},
   "source": [
    "### Rotate Matrix, 90 degrees clockwise"
   ]
  },
  {
   "cell_type": "markdown",
   "id": "8d5aa68f",
   "metadata": {},
   "source": [
    "#### The smart way"
   ]
  },
  {
   "cell_type": "code",
   "execution_count": 3,
   "id": "b6697897",
   "metadata": {},
   "outputs": [
    {
     "data": {
      "text/plain": [
       "array([[1., 0., 0.],\n",
       "       [0., 1., 0.],\n",
       "       [0., 0., 1.]])"
      ]
     },
     "execution_count": 3,
     "metadata": {},
     "output_type": "execute_result"
    }
   ],
   "source": [
    "import numpy as np\n",
    "\n",
    "# Generate a 3x3 Identity matrix\n",
    "M = np.eye(3, 3)\n",
    "\n",
    "M"
   ]
  },
  {
   "cell_type": "code",
   "execution_count": 4,
   "id": "f25c94eb",
   "metadata": {},
   "outputs": [
    {
     "data": {
      "text/plain": [
       "array([[0., 0., 1.],\n",
       "       [0., 1., 0.],\n",
       "       [1., 0., 0.]])"
      ]
     },
     "execution_count": 4,
     "metadata": {},
     "output_type": "execute_result"
    }
   ],
   "source": [
    "'''\n",
    "Let numpy do all the work.\n",
    "\n",
    "And this is the better way to do it, and how you will be doing it irl,\n",
    "Because;\n",
    "\n",
    "1. Why reinvent the wheel?\n",
    "\n",
    "2. The people who wrote the libraries are much smarter than you and I,\n",
    "and their code is much more efficient and error proof.\n",
    "\n",
    "'''\n",
    "np.rot90(M)"
   ]
  },
  {
   "cell_type": "markdown",
   "id": "a05b5f82",
   "metadata": {},
   "source": [
    "#### The dumb way"
   ]
  },
  {
   "cell_type": "code",
   "execution_count": 5,
   "id": "49b56c85",
   "metadata": {},
   "outputs": [
    {
     "name": "stdout",
     "output_type": "stream",
     "text": [
      "[1, 2, 3]\n",
      "[4, 5, 6]\n",
      "[7, 8, 9]\n"
     ]
    }
   ],
   "source": [
    "# Initialize a 3x3 matrix\n",
    "A = [[1,2,3],\n",
    "     [4,5,6],\n",
    "     [7,8,9]]\n",
    "\n",
    "# Print out the matrix\n",
    "for x in A:\n",
    "    print(x)"
   ]
  },
  {
   "cell_type": "code",
   "execution_count": 7,
   "id": "bd323865",
   "metadata": {},
   "outputs": [
    {
     "name": "stdout",
     "output_type": "stream",
     "text": [
      "[7, 4, 1]\n",
      "[8, 5, 2]\n",
      "[9, 6, 3]\n"
     ]
    }
   ],
   "source": [
    "# Initialize a rotated matrix\n",
    "A_rot = []\n",
    "\n",
    "# Using enumerate() to access index\n",
    "for i,v in enumerate(A):\n",
    "    \n",
    "    # Go down the columns\n",
    "    li_2 = [x[i] for x in A]\n",
    "    \n",
    "    # Realize that the reversed column in the new row\n",
    "    li_2.reverse()\n",
    "    \n",
    "    # Add that row to your new matrix\n",
    "    A_rot.append(li_2)\n",
    "    \n",
    "# The result is your matrix rotated by 90 CW    \n",
    "for x in A_rot:\n",
    "    print(x)"
   ]
  }
 ],
 "metadata": {
  "kernelspec": {
   "display_name": "Python 3 (ipykernel)",
   "language": "python",
   "name": "python3"
  },
  "language_info": {
   "codemirror_mode": {
    "name": "ipython",
    "version": 3
   },
   "file_extension": ".py",
   "mimetype": "text/x-python",
   "name": "python",
   "nbconvert_exporter": "python",
   "pygments_lexer": "ipython3",
   "version": "3.8.12"
  }
 },
 "nbformat": 4,
 "nbformat_minor": 5
}
