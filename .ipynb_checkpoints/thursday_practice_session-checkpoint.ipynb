{
 "cells": [
  {
   "cell_type": "markdown",
   "id": "395cfadd",
   "metadata": {},
   "source": [
    "# Python practice session control flow and structure."
   ]
  },
  {
   "cell_type": "markdown",
   "id": "010ac3eb",
   "metadata": {},
   "source": [
    "## Q.1 Write a program that prints 'fizz' if a number is evenly divisible by 3, 'buzz' if its evenly divisible by 5 and 'fizzbuzz' if its evenly divisible by both 3 and 5, Else just print the number. Print from [1,16].\n",
    "\n",
    "\n",
    "### Your output should look like this ;\n",
    "```\n",
    "1\n",
    "2\n",
    "fizz\n",
    "4\n",
    "buzz\n",
    "fizz\n",
    ".\n",
    ".\n",
    ".\n",
    "13\n",
    "14\n",
    "fizzbuzz\n",
    ".\n",
    ".\n",
    "```"
   ]
  },
  {
   "cell_type": "markdown",
   "id": "4f0d340d",
   "metadata": {},
   "source": [
    "### Straightforward solution."
   ]
  },
  {
   "cell_type": "code",
   "execution_count": 11,
   "id": "4ebcad08",
   "metadata": {
    "scrolled": true
   },
   "outputs": [
    {
     "name": "stdout",
     "output_type": "stream",
     "text": [
      "1\n",
      "2\n",
      "fizz\n",
      "4\n",
      "buzz\n",
      "fizz\n",
      "7\n",
      "8\n",
      "fizz\n",
      "buzz\n",
      "11\n",
      "fizz\n",
      "13\n",
      "14\n",
      "fizzbuzz\n"
     ]
    }
   ],
   "source": [
    "for number in range(1,16):\n",
    "    if number % 3 == 0 and number % 5 == 0:\n",
    "        print('fizzbuzz')\n",
    "    elif number % 3 == 0:\n",
    "        print('fizz')\n",
    "    elif number % 5 == 0:\n",
    "        print('buzz')\n",
    "    else:\n",
    "        print(number)"
   ]
  },
  {
   "cell_type": "markdown",
   "id": "a13ce3eb",
   "metadata": {},
   "source": [
    "### Inspect this carefully."
   ]
  },
  {
   "cell_type": "code",
   "execution_count": 31,
   "id": "af877956",
   "metadata": {
    "scrolled": false
   },
   "outputs": [
    {
     "name": "stdout",
     "output_type": "stream",
     "text": [
      "1\n",
      "2\n",
      "fizz\n",
      "4\n",
      "buzz\n",
      "fizz\n",
      "7\n",
      "8\n",
      "fizz\n",
      "buzz\n",
      "11\n",
      "fizz\n",
      "13\n",
      "14\n",
      "fizzbuzz\n"
     ]
    }
   ],
   "source": [
    "'''\n",
    "This is a \"clever\" solution, its not really faster than the code above, or easier to understand. \n",
    "Thus its worse than the previous solution in every way that matters.\n",
    "But it can help you understand how python primitives work a bit more clearly. \n",
    "Especially strings and booleans.\n",
    "'''\n",
    "\n",
    "for i in range(1,16):\n",
    "    print('fizz'*(i % 3 == 0) + 'buzz'*(i % 5 == 0) + str(i)*(i % 3 != 0 and  i % 5 != 0))"
   ]
  },
  {
   "cell_type": "markdown",
   "id": "31db1f82",
   "metadata": {},
   "source": [
    "# Q.2) Write a class that takes your birthday as an attribute.\n",
    "\n",
    "### And has 2 methods that tell you;\n",
    "\n",
    "### 1. How old you are today. In years, months and days. \n",
    "##### (Use datetime library for above)\n",
    "##### Use this format 'dd/mm/yyyy'\n",
    "##### Note: your input should be 1 string. Parsing that string into dates is a part of the task.\n",
    "\n",
    "### 2. Were you born on a leap year or not?\n",
    "____________________________________________________________________\n",
    "### A leap year is exactly divisible by 4 except for century years (years ending with 00). The century year is a leap year only if it is perfectly divisible by 400. \n",
    "\n",
    "### Implement this algorithm.\n",
    "\n",
    "1. If the year is evenly divisible by 4, go to step 2. Otherwise, go to step 5.\n",
    "2. If the year is evenly divisible by 100, go to step 3. Otherwise, go to step 4.\n",
    "3. If the year is evenly divisible by 400, go to step 4. Otherwise, go to step 5.\n",
    "4. The year is a leap year (it has 366 days).\n",
    "5. The year is not a leap year (it has 365 days).\n",
    "\n",
    "\n"
   ]
  },
  {
   "cell_type": "code",
   "execution_count": 32,
   "id": "8d134d1a",
   "metadata": {},
   "outputs": [
    {
     "ename": "AttributeError",
     "evalue": "'Year' object has no attribute 'year'",
     "output_type": "error",
     "traceback": [
      "\u001b[1;31m---------------------------------------------------------------------------\u001b[0m",
      "\u001b[1;31mAttributeError\u001b[0m                            Traceback (most recent call last)",
      "\u001b[1;32m~\\AppData\\Local\\Temp/ipykernel_11604/325243708.py\u001b[0m in \u001b[0;36m<module>\u001b[1;34m\u001b[0m\n\u001b[0;32m     23\u001b[0m             \u001b[1;32mreturn\u001b[0m \u001b[0m_no\u001b[0m\u001b[1;33m\u001b[0m\u001b[1;33m\u001b[0m\u001b[0m\n\u001b[0;32m     24\u001b[0m \u001b[1;33m\u001b[0m\u001b[0m\n\u001b[1;32m---> 25\u001b[1;33m \u001b[0mYear\u001b[0m\u001b[1;33m(\u001b[0m\u001b[1;36m2002\u001b[0m\u001b[1;33m)\u001b[0m\u001b[1;33m.\u001b[0m\u001b[0misLeapYear\u001b[0m\u001b[1;33m(\u001b[0m\u001b[1;33m)\u001b[0m\u001b[1;33m\u001b[0m\u001b[1;33m\u001b[0m\u001b[0m\n\u001b[0m",
      "\u001b[1;32m~\\AppData\\Local\\Temp/ipykernel_11604/325243708.py\u001b[0m in \u001b[0;36m__init__\u001b[1;34m(self, year)\u001b[0m\n\u001b[0;32m      2\u001b[0m \u001b[1;33m\u001b[0m\u001b[0m\n\u001b[0;32m      3\u001b[0m     \u001b[1;32mdef\u001b[0m \u001b[0m__init__\u001b[0m\u001b[1;33m(\u001b[0m\u001b[0mself\u001b[0m\u001b[1;33m,\u001b[0m\u001b[0myear\u001b[0m\u001b[1;33m)\u001b[0m\u001b[1;33m:\u001b[0m\u001b[1;33m\u001b[0m\u001b[1;33m\u001b[0m\u001b[0m\n\u001b[1;32m----> 4\u001b[1;33m         \u001b[0mself\u001b[0m\u001b[1;33m.\u001b[0m\u001b[0myear\u001b[0m \u001b[1;33m==\u001b[0m \u001b[0myear\u001b[0m\u001b[1;33m\u001b[0m\u001b[1;33m\u001b[0m\u001b[0m\n\u001b[0m\u001b[0;32m      5\u001b[0m \u001b[1;33m\u001b[0m\u001b[0m\n\u001b[0;32m      6\u001b[0m     \u001b[1;32mdef\u001b[0m \u001b[0misLeapYear\u001b[0m\u001b[1;33m(\u001b[0m\u001b[0mself\u001b[0m\u001b[1;33m)\u001b[0m\u001b[1;33m:\u001b[0m\u001b[1;33m\u001b[0m\u001b[1;33m\u001b[0m\u001b[0m\n",
      "\u001b[1;31mAttributeError\u001b[0m: 'Year' object has no attribute 'year'"
     ]
    }
   ],
   "source": [
    "from datetime import datetime\n",
    "import re\n",
    "\n",
    "class Year:\n",
    "    \n",
    "    def __init__(self,date_of_birth):\n",
    "        self.date_of_birth == date_of_birth\n",
    "        \n",
    "    def age(self):\n",
    "        dob_object = datetime.strptime(self.date_of_birth, \"%d/%m/%Y\")\n",
    "        now_object = datetime.now()\n",
    "        \n",
    "        return \n",
    "        \n",
    "        \n",
    "        return \n",
    "\n",
    "    def isLeapYear(self):\n",
    "        '''\n",
    "        Returns a string telling if your year is a leap year.\n",
    "\n",
    "        '''\n",
    "        year = re.split(r'[-/]',self.date_of_birth)[2]\n",
    "        \n",
    "        _yes = f'Yes {self.year} is a leap year.'\n",
    "        _no  = f'No {self.year} is not a leap year.'\n",
    "\n",
    "        if year % 4 == 0:\n",
    "            if year % 100 == 0:\n",
    "                if year % 400 == 0:\n",
    "                    return _yes\n",
    "                else:\n",
    "                    return _no\n",
    "            else:\n",
    "                return _yes\n",
    "        else:\n",
    "            return _no"
   ]
  },
  {
   "cell_type": "code",
   "execution_count": 8,
   "id": "80b1815b",
   "metadata": {},
   "outputs": [
    {
     "data": {
      "text/plain": [
       "'2021'"
      ]
     },
     "execution_count": 8,
     "metadata": {},
     "output_type": "execute_result"
    }
   ],
   "source": [
    "import re\n",
    "\n",
    "re.split(r'[-/]','20-21-2021')[2]"
   ]
  },
  {
   "cell_type": "code",
   "execution_count": 13,
   "id": "b11cdd97",
   "metadata": {},
   "outputs": [],
   "source": [
    "from datetime import datetime"
   ]
  },
  {
   "cell_type": "code",
   "execution_count": 26,
   "id": "68b0d1d9",
   "metadata": {},
   "outputs": [
    {
     "data": {
      "text/plain": [
       "'16/11/21 17:44:12'"
      ]
     },
     "execution_count": 26,
     "metadata": {},
     "output_type": "execute_result"
    }
   ],
   "source": [
    "datetime.now().strftime(\"%d/%m/%y %H:%M:%S\")"
   ]
  },
  {
   "cell_type": "code",
   "execution_count": 59,
   "id": "a5cffc4d",
   "metadata": {},
   "outputs": [
    {
     "data": {
      "text/plain": [
       "datetime.timedelta(days=8751, seconds=64532, microseconds=827025)"
      ]
     },
     "execution_count": 59,
     "metadata": {},
     "output_type": "execute_result"
    }
   ],
   "source": [
    "(datetime.now() - datetime.strptime('1/12/1997', \"%d/%m/%Y\"))"
   ]
  },
  {
   "cell_type": "code",
   "execution_count": 53,
   "id": "16fcbbf9",
   "metadata": {},
   "outputs": [
    {
     "data": {
      "text/plain": [
       "23"
      ]
     },
     "execution_count": 53,
     "metadata": {},
     "output_type": "execute_result"
    }
   ],
   "source": [
    "8751//365"
   ]
  },
  {
   "cell_type": "code",
   "execution_count": null,
   "id": "c14f3af3",
   "metadata": {},
   "outputs": [],
   "source": []
  }
 ],
 "metadata": {
  "kernelspec": {
   "display_name": "Python 3 (ipykernel)",
   "language": "python",
   "name": "python3"
  },
  "language_info": {
   "codemirror_mode": {
    "name": "ipython",
    "version": 3
   },
   "file_extension": ".py",
   "mimetype": "text/x-python",
   "name": "python",
   "nbconvert_exporter": "python",
   "pygments_lexer": "ipython3",
   "version": "3.8.12"
  }
 },
 "nbformat": 4,
 "nbformat_minor": 5
}
