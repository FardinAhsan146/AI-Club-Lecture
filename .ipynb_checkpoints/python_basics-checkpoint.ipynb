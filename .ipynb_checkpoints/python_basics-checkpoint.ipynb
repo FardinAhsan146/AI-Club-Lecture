{
 "cells": [
  {
   "cell_type": "markdown",
   "id": "81bce22a",
   "metadata": {},
   "source": [
    "\n",
    "\n",
    "<H1 align=\"center\">\n",
    "    Python For Engineers - Tutorial 1\n",
    "</H1>\n",
    "\n",
    "<H1 align=\"center\">\n",
    "    By Fardin Ahsan\n",
    "</H1>\n",
    "\n",
    "___________________________________\n",
    "\n",
    "# Introduction to python primitives"
   ]
  },
  {
   "cell_type": "markdown",
   "id": "8b930fc4",
   "metadata": {},
   "source": [
    "<img src='flowchart.jpeg'>"
   ]
  },
  {
   "cell_type": "markdown",
   "id": "b6672eb7",
   "metadata": {},
   "source": [
    "## Comments"
   ]
  },
  {
   "cell_type": "code",
   "execution_count": 51,
   "id": "0128ceda",
   "metadata": {},
   "outputs": [
    {
     "name": "stdout",
     "output_type": "stream",
     "text": [
      "Hello World\n"
     ]
    }
   ],
   "source": [
    "\"\"\"\n",
    "This is a multi line comment.\n",
    "It can be as many lines as you want.\n",
    "If you want you can take up 100 lines!\n",
    "Even more than that.\n",
    "Seriously, as many lines as you want.\n",
    "\n",
    "\n",
    "You can skip lines too.\n",
    "Or do this\n",
    "A\n",
    "A\n",
    "A\n",
    "A\n",
    "A\n",
    "A\n",
    "A\n",
    "A\n",
    "A\n",
    "A\n",
    "\n",
    "\"\"\"\n",
    "\n",
    "# This is a single line comment.\n",
    "\n",
    "\n",
    "print('Hello World') # This is an inline comment holding on to programming tradition"
   ]
  },
  {
   "cell_type": "markdown",
   "id": "ac12e462",
   "metadata": {},
   "source": [
    "# Numbers"
   ]
  },
  {
   "cell_type": "markdown",
   "id": "9df953ba",
   "metadata": {},
   "source": [
    "## Integers"
   ]
  },
  {
   "cell_type": "code",
   "execution_count": 29,
   "id": "c2f56df3",
   "metadata": {},
   "outputs": [],
   "source": [
    "int_a = 1\n",
    "int_b = 2\n",
    "int_c = 3"
   ]
  },
  {
   "cell_type": "code",
   "execution_count": 35,
   "id": "98525879",
   "metadata": {},
   "outputs": [
    {
     "data": {
      "text/plain": [
       "-1"
      ]
     },
     "execution_count": 35,
     "metadata": {},
     "output_type": "execute_result"
    }
   ],
   "source": [
    "# Addition\n",
    "int_a + int_b - 4"
   ]
  },
  {
   "cell_type": "code",
   "execution_count": 31,
   "id": "0b44a0d0",
   "metadata": {},
   "outputs": [
    {
     "data": {
      "text/plain": [
       "2"
      ]
     },
     "execution_count": 31,
     "metadata": {},
     "output_type": "execute_result"
    }
   ],
   "source": [
    "# Multiplication\n",
    "int_a * int_b"
   ]
  },
  {
   "cell_type": "code",
   "execution_count": 171,
   "id": "b233c908",
   "metadata": {},
   "outputs": [
    {
     "data": {
      "text/plain": [
       "8"
      ]
     },
     "execution_count": 171,
     "metadata": {},
     "output_type": "execute_result"
    }
   ],
   "source": [
    "# Exponentiation \n",
    "int_b ** int_c"
   ]
  },
  {
   "cell_type": "code",
   "execution_count": 32,
   "id": "1a7a3b44",
   "metadata": {},
   "outputs": [
    {
     "data": {
      "text/plain": [
       "0.5"
      ]
     },
     "execution_count": 32,
     "metadata": {},
     "output_type": "execute_result"
    }
   ],
   "source": [
    "# Division\n",
    "int_a / int_b"
   ]
  },
  {
   "cell_type": "code",
   "execution_count": 33,
   "id": "e1ed70c3",
   "metadata": {},
   "outputs": [
    {
     "data": {
      "text/plain": [
       "1"
      ]
     },
     "execution_count": 33,
     "metadata": {},
     "output_type": "execute_result"
    }
   ],
   "source": [
    "'''\n",
    "Floor division, divides then rounds down to an integer,\n",
    "This is similar to division in the C language\n",
    "\n",
    "'''\n",
    "int_c // int_b"
   ]
  },
  {
   "cell_type": "code",
   "execution_count": 34,
   "id": "9dcfe6c5",
   "metadata": {},
   "outputs": [
    {
     "data": {
      "text/plain": [
       "1"
      ]
     },
     "execution_count": 34,
     "metadata": {},
     "output_type": "execute_result"
    }
   ],
   "source": [
    "#The modulus operator gives the remainder\n",
    "\n",
    "int_c % int_b"
   ]
  },
  {
   "cell_type": "markdown",
   "id": "4a88f125",
   "metadata": {},
   "source": [
    "## Complex"
   ]
  },
  {
   "cell_type": "code",
   "execution_count": 19,
   "id": "31f5bd0e",
   "metadata": {},
   "outputs": [],
   "source": [
    "cmplx_a = 1 + 2j\n",
    "cmplx_b = 2 + 3j"
   ]
  },
  {
   "cell_type": "code",
   "execution_count": 20,
   "id": "f5c90009",
   "metadata": {},
   "outputs": [
    {
     "data": {
      "text/plain": [
       "(3+5j)"
      ]
     },
     "execution_count": 20,
     "metadata": {},
     "output_type": "execute_result"
    }
   ],
   "source": [
    "# Addition\n",
    "cmplx_a + cmplx_b"
   ]
  },
  {
   "cell_type": "code",
   "execution_count": 21,
   "id": "dd1d5cf4",
   "metadata": {},
   "outputs": [
    {
     "data": {
      "text/plain": [
       "2.23606797749979"
      ]
     },
     "execution_count": 21,
     "metadata": {},
     "output_type": "execute_result"
    }
   ],
   "source": [
    "abs(cmplx_a)"
   ]
  },
  {
   "cell_type": "markdown",
   "id": "fea5e63a",
   "metadata": {},
   "source": [
    "## Float"
   ]
  },
  {
   "cell_type": "code",
   "execution_count": 36,
   "id": "ea705284",
   "metadata": {},
   "outputs": [],
   "source": [
    "float_a = 0.5\n",
    "float_b = 1.5"
   ]
  },
  {
   "cell_type": "code",
   "execution_count": 39,
   "id": "e4f371ec",
   "metadata": {},
   "outputs": [
    {
     "data": {
      "text/plain": [
       "3.0"
      ]
     },
     "execution_count": 39,
     "metadata": {},
     "output_type": "execute_result"
    }
   ],
   "source": [
    "float_b / float_a"
   ]
  },
  {
   "cell_type": "markdown",
   "id": "849282f4",
   "metadata": {},
   "source": [
    "________________________________"
   ]
  },
  {
   "cell_type": "markdown",
   "id": "c33b7815",
   "metadata": {},
   "source": [
    "# Booleans"
   ]
  },
  {
   "cell_type": "code",
   "execution_count": 40,
   "id": "08452489",
   "metadata": {},
   "outputs": [],
   "source": [
    "bool_a = True\n",
    "bool_b = False"
   ]
  },
  {
   "cell_type": "code",
   "execution_count": 48,
   "id": "d13b4e2c",
   "metadata": {},
   "outputs": [
    {
     "data": {
      "text/plain": [
       "False"
      ]
     },
     "execution_count": 48,
     "metadata": {},
     "output_type": "execute_result"
    }
   ],
   "source": [
    "# logical negation\n",
    "not bool_a"
   ]
  },
  {
   "cell_type": "code",
   "execution_count": 41,
   "id": "dc880392",
   "metadata": {},
   "outputs": [
    {
     "data": {
      "text/plain": [
       "False"
      ]
     },
     "execution_count": 41,
     "metadata": {},
     "output_type": "execute_result"
    }
   ],
   "source": [
    "# Logical AND\n",
    "bool_a and bool_b"
   ]
  },
  {
   "cell_type": "code",
   "execution_count": 42,
   "id": "11389e35",
   "metadata": {},
   "outputs": [
    {
     "data": {
      "text/plain": [
       "True"
      ]
     },
     "execution_count": 42,
     "metadata": {},
     "output_type": "execute_result"
    }
   ],
   "source": [
    "# Logical OR\n",
    "bool_a or bool_b"
   ]
  },
  {
   "cell_type": "code",
   "execution_count": 49,
   "id": "2dd40830",
   "metadata": {},
   "outputs": [
    {
     "data": {
      "text/plain": [
       "True"
      ]
     },
     "execution_count": 49,
     "metadata": {},
     "output_type": "execute_result"
    }
   ],
   "source": [
    "# Logical XOR\n",
    "bool_a ^ bool_b"
   ]
  },
  {
   "cell_type": "markdown",
   "id": "afcf3672",
   "metadata": {},
   "source": [
    "______________________________________________________"
   ]
  },
  {
   "cell_type": "markdown",
   "id": "d40271a6",
   "metadata": {},
   "source": [
    "# Strings"
   ]
  },
  {
   "cell_type": "code",
   "execution_count": 52,
   "id": "65af6579",
   "metadata": {},
   "outputs": [],
   "source": [
    "string_a = \"Hello\"\n",
    "string_b = \"World\""
   ]
  },
  {
   "cell_type": "code",
   "execution_count": 53,
   "id": "da04e7e7",
   "metadata": {},
   "outputs": [
    {
     "data": {
      "text/plain": [
       "'HelloWorld'"
      ]
     },
     "execution_count": 53,
     "metadata": {},
     "output_type": "execute_result"
    }
   ],
   "source": [
    "# concatenation\n",
    "string_a + string_b"
   ]
  },
  {
   "cell_type": "code",
   "execution_count": 54,
   "id": "afa3d695",
   "metadata": {},
   "outputs": [
    {
     "data": {
      "text/plain": [
       "'Hello World'"
      ]
     },
     "execution_count": 54,
     "metadata": {},
     "output_type": "execute_result"
    }
   ],
   "source": [
    "# Better concatenation\n",
    "string_a + ' ' + string_b"
   ]
  },
  {
   "cell_type": "code",
   "execution_count": 55,
   "id": "7401abe4",
   "metadata": {},
   "outputs": [
    {
     "data": {
      "text/plain": [
       "'Hel'"
      ]
     },
     "execution_count": 55,
     "metadata": {},
     "output_type": "execute_result"
    }
   ],
   "source": [
    "# Slicing \n",
    "string_a[0:3]"
   ]
  },
  {
   "cell_type": "code",
   "execution_count": 57,
   "id": "84662802",
   "metadata": {},
   "outputs": [
    {
     "name": "stdout",
     "output_type": "stream",
     "text": [
      "H\n",
      "e\n",
      "l\n",
      "l\n",
      "o\n"
     ]
    }
   ],
   "source": [
    "# Iterating\n",
    "for letter in string_a:\n",
    "    print(letter)"
   ]
  },
  {
   "cell_type": "code",
   "execution_count": 58,
   "id": "45ed87f2",
   "metadata": {},
   "outputs": [
    {
     "data": {
      "text/plain": [
       "'HELLO'"
      ]
     },
     "execution_count": 58,
     "metadata": {},
     "output_type": "execute_result"
    }
   ],
   "source": [
    "# String methods\n",
    "# Note there are way too many I am going to show only one!\n",
    "\n",
    "string_a.upper()"
   ]
  },
  {
   "cell_type": "code",
   "execution_count": 73,
   "id": "a91b6feb",
   "metadata": {},
   "outputs": [
    {
     "name": "stdout",
     "output_type": "stream",
     "text": [
      "The sum of 1 and 2 is 3.\n",
      "The sum of 1 and 2 is 3.\n"
     ]
    }
   ],
   "source": [
    "'''\n",
    "String concateration and slicing is amateurish and non pythonic.\n",
    "\n",
    "In python development it is reccomended to use use f strings.\n",
    "\n",
    "Because it looks so much better!\n",
    "\n",
    "And as we know from before, in python sometimes better looking is actually better.\n",
    "\n",
    "'''\n",
    "# Peasant Tier\n",
    "print('The sum of ' + str(int_a) + ' and ' + str(int_b) + ' is ' + str((int_a + int_b)) + '.')\n",
    "      \n",
    "\n",
    "# God Tier\n",
    "print(f'The sum of {int_a} and {int_b} is {int_a + int_b}.')"
   ]
  },
  {
   "cell_type": "markdown",
   "id": "625c7ef8",
   "metadata": {},
   "source": [
    "____________________________________________________________________"
   ]
  },
  {
   "cell_type": "markdown",
   "id": "ab870f7d",
   "metadata": {},
   "source": [
    "# Containers\n",
    "\n",
    "Containers are datastructures that hold multiple elements rather than only one.\n",
    "\n",
    "All containers are iterables but not all iterables are containers.\n",
    "Strings occupy a gray zone where they are iterables but not containers."
   ]
  },
  {
   "cell_type": "markdown",
   "id": "e280cf30",
   "metadata": {},
   "source": [
    "## Lists"
   ]
  },
  {
   "cell_type": "markdown",
   "id": "d99e4558",
   "metadata": {},
   "source": [
    "Lists are the most commonly used container in python.\n",
    "Lists are iterable, mutable."
   ]
  },
  {
   "cell_type": "code",
   "execution_count": 102,
   "id": "ceb0e006",
   "metadata": {},
   "outputs": [
    {
     "data": {
      "text/plain": [
       "[1, 0.5, 'Hello', [1, 2, 3]]"
      ]
     },
     "execution_count": 102,
     "metadata": {},
     "output_type": "execute_result"
    }
   ],
   "source": [
    "list_a = [1,2,3]\n",
    "list_b = [int_a,float_a,string_a,list_a]\n",
    "\n",
    "list_b"
   ]
  },
  {
   "cell_type": "code",
   "execution_count": 103,
   "id": "9b6d904f",
   "metadata": {},
   "outputs": [
    {
     "data": {
      "text/plain": [
       "[1, 0.5, 'Hello', [1, 2, 3], 1, 2, 3]"
      ]
     },
     "execution_count": 103,
     "metadata": {},
     "output_type": "execute_result"
    }
   ],
   "source": [
    "#Lists are mutable\n",
    "list_b + list_a"
   ]
  },
  {
   "cell_type": "code",
   "execution_count": 146,
   "id": "e6e80020",
   "metadata": {},
   "outputs": [
    {
     "data": {
      "text/plain": [
       "[1, 2, 3]"
      ]
     },
     "execution_count": 146,
     "metadata": {},
     "output_type": "execute_result"
    }
   ],
   "source": [
    "# Accesing an item in the list\n",
    "list_b[3]"
   ]
  },
  {
   "cell_type": "markdown",
   "id": "16b98d14",
   "metadata": {},
   "source": [
    "## Tuples"
   ]
  },
  {
   "cell_type": "markdown",
   "id": "cea51c19",
   "metadata": {},
   "source": [
    "Tuples are iterable, immutable, but are useful in development because they can be unpacked."
   ]
  },
  {
   "cell_type": "code",
   "execution_count": 104,
   "id": "bf6bb64b",
   "metadata": {},
   "outputs": [],
   "source": [
    "tuple_a = (1,2,3,4,5,'a')"
   ]
  },
  {
   "cell_type": "code",
   "execution_count": 105,
   "id": "fea56469",
   "metadata": {},
   "outputs": [],
   "source": [
    "# Unpacking the tuple\n",
    "one,two,*three_and_more = tuple_a"
   ]
  },
  {
   "cell_type": "code",
   "execution_count": 106,
   "id": "190ee419",
   "metadata": {},
   "outputs": [
    {
     "data": {
      "text/plain": [
       "1"
      ]
     },
     "execution_count": 106,
     "metadata": {},
     "output_type": "execute_result"
    }
   ],
   "source": [
    "# Unpacked values are variables\n",
    "one"
   ]
  },
  {
   "cell_type": "code",
   "execution_count": 107,
   "id": "60d1a26a",
   "metadata": {},
   "outputs": [
    {
     "data": {
      "text/plain": [
       "2"
      ]
     },
     "execution_count": 107,
     "metadata": {},
     "output_type": "execute_result"
    }
   ],
   "source": [
    "two"
   ]
  },
  {
   "cell_type": "code",
   "execution_count": 108,
   "id": "fb3cd772",
   "metadata": {},
   "outputs": [
    {
     "data": {
      "text/plain": [
       "[3, 4, 5, 'a']"
      ]
     },
     "execution_count": 108,
     "metadata": {},
     "output_type": "execute_result"
    }
   ],
   "source": [
    "# Multiple unpacked are a list\n",
    "three_and_more"
   ]
  },
  {
   "cell_type": "markdown",
   "id": "719f52df",
   "metadata": {},
   "source": [
    "## Sets"
   ]
  },
  {
   "cell_type": "markdown",
   "id": "c852e61a",
   "metadata": {},
   "source": [
    "Python sets are datastructures that mimic mathmatical sets.\n",
    "\n",
    "\n",
    "$\\{x \\mid x \\text{ is positive and even}\\}$ \n",
    "\n",
    "=\n",
    "\n",
    "$\\{2, 4, 6, 8\\dots\\}$ \n"
   ]
  },
  {
   "cell_type": "code",
   "execution_count": 109,
   "id": "dba8ed5e",
   "metadata": {},
   "outputs": [],
   "source": [
    "set_a = {1,2,3}\n",
    "set_b = {3,4,5}"
   ]
  },
  {
   "cell_type": "code",
   "execution_count": 110,
   "id": "2b017577",
   "metadata": {},
   "outputs": [
    {
     "data": {
      "text/plain": [
       "{3}"
      ]
     },
     "execution_count": 110,
     "metadata": {},
     "output_type": "execute_result"
    }
   ],
   "source": [
    "# Intersection\n",
    "set_a & set_b"
   ]
  },
  {
   "cell_type": "code",
   "execution_count": 112,
   "id": "9d4e2001",
   "metadata": {},
   "outputs": [
    {
     "data": {
      "text/plain": [
       "{1, 2, 3, 4, 5}"
      ]
     },
     "execution_count": 112,
     "metadata": {},
     "output_type": "execute_result"
    }
   ],
   "source": [
    "# Union\n",
    "set_a | set_b"
   ]
  },
  {
   "cell_type": "markdown",
   "id": "4eab9960",
   "metadata": {},
   "source": [
    "_____________________________________"
   ]
  },
  {
   "cell_type": "markdown",
   "id": "cbac34b2",
   "metadata": {},
   "source": [
    "## Dictionary"
   ]
  },
  {
   "cell_type": "markdown",
   "id": "dac6f407",
   "metadata": {},
   "source": [
    "Dictionaries are containers where you strore data with key value pairs."
   ]
  },
  {
   "cell_type": "code",
   "execution_count": 116,
   "id": "28ce5472",
   "metadata": {},
   "outputs": [],
   "source": [
    "dict_a = {'one':1,\n",
    "          'two':2,\n",
    "          3:'Three'}"
   ]
  },
  {
   "cell_type": "code",
   "execution_count": 117,
   "id": "06015cca",
   "metadata": {},
   "outputs": [
    {
     "data": {
      "text/plain": [
       "1"
      ]
     },
     "execution_count": 117,
     "metadata": {},
     "output_type": "execute_result"
    }
   ],
   "source": [
    "#Acess one\n",
    "dict_a['one']"
   ]
  },
  {
   "cell_type": "code",
   "execution_count": 118,
   "id": "423312f2",
   "metadata": {},
   "outputs": [
    {
     "data": {
      "text/plain": [
       "'Three'"
      ]
     },
     "execution_count": 118,
     "metadata": {},
     "output_type": "execute_result"
    }
   ],
   "source": [
    "#Access the string 'Three'\n",
    "dict_a[3]"
   ]
  },
  {
   "cell_type": "markdown",
   "id": "90088d3f",
   "metadata": {},
   "source": [
    "____________________________________________________________________________________"
   ]
  },
  {
   "cell_type": "markdown",
   "id": "99a566b2",
   "metadata": {},
   "source": [
    "# Control flow"
   ]
  },
  {
   "cell_type": "markdown",
   "id": "ee838af3",
   "metadata": {},
   "source": [
    "Control flow is how the programs consecutive instruvtions are structured."
   ]
  },
  {
   "cell_type": "markdown",
   "id": "5d308b6f",
   "metadata": {},
   "source": [
    "## Conditional statements"
   ]
  },
  {
   "cell_type": "code",
   "execution_count": 123,
   "id": "3613d484",
   "metadata": {},
   "outputs": [],
   "source": [
    "four = 4\n",
    "five = 5\n",
    "six = 6"
   ]
  },
  {
   "cell_type": "code",
   "execution_count": 127,
   "id": "3c3d22a4",
   "metadata": {},
   "outputs": [
    {
     "name": "stdout",
     "output_type": "stream",
     "text": [
      "five is bigger than four\n"
     ]
    }
   ],
   "source": [
    "if five >= four:\n",
    "    print('five is bigger than four')"
   ]
  },
  {
   "cell_type": "code",
   "execution_count": 128,
   "id": "711709b8",
   "metadata": {},
   "outputs": [
    {
     "name": "stdout",
     "output_type": "stream",
     "text": [
      "That can't be true\n"
     ]
    }
   ],
   "source": [
    "if five < four:\n",
    "    print('five is bigger than four')\n",
    "else:\n",
    "    print(\"That can't be true\")"
   ]
  },
  {
   "cell_type": "code",
   "execution_count": 129,
   "id": "dccf4acc",
   "metadata": {},
   "outputs": [
    {
     "name": "stdout",
     "output_type": "stream",
     "text": [
      "6 is bigger than 5\n"
     ]
    }
   ],
   "source": [
    "if five < four:\n",
    "    print('five is bigger than four')\n",
    "    \n",
    "elif six > 5:\n",
    "    print('6 is bigger than 5')\n",
    "\n",
    "else:\n",
    "    print(\"That can't be true\")"
   ]
  },
  {
   "cell_type": "markdown",
   "id": "dabfaa09",
   "metadata": {},
   "source": [
    "______________________________________________________________________"
   ]
  },
  {
   "cell_type": "markdown",
   "id": "fbae341c",
   "metadata": {},
   "source": [
    "## While loops"
   ]
  },
  {
   "cell_type": "code",
   "execution_count": 136,
   "id": "5a873602",
   "metadata": {},
   "outputs": [
    {
     "name": "stdout",
     "output_type": "stream",
     "text": [
      "0\n",
      "1\n",
      "2\n",
      "3\n",
      "4\n",
      "5\n"
     ]
    }
   ],
   "source": [
    "# Loop until come sort of condition is met\n",
    "\n",
    "counter = 0\n",
    "\n",
    "while counter <= 5:\n",
    "    print(counter)\n",
    "    counter += 1"
   ]
  },
  {
   "cell_type": "code",
   "execution_count": 139,
   "id": "39bf7af1",
   "metadata": {},
   "outputs": [
    {
     "name": "stdout",
     "output_type": "stream",
     "text": [
      "0\n",
      "1\n",
      "2\n",
      "3\n",
      "4\n",
      "5\n"
     ]
    }
   ],
   "source": [
    "# You can control the flow from inside of the loop too\n",
    "\n",
    "counter = 0\n",
    "\n",
    "while True:  # infinte loop\n",
    "    \n",
    "    # Control flow inside of loop\n",
    "    if counter > 5:\n",
    "        break\n",
    "    \n",
    "    print(counter)\n",
    "    counter += 1"
   ]
  },
  {
   "cell_type": "markdown",
   "id": "6570f871",
   "metadata": {},
   "source": [
    "___________________________________________________"
   ]
  },
  {
   "cell_type": "markdown",
   "id": "2d071fb6",
   "metadata": {},
   "source": [
    "## For loops"
   ]
  },
  {
   "cell_type": "markdown",
   "id": "62056a27",
   "metadata": {},
   "source": [
    "For loops in python are not like the for loops in C or matlab. Where you set a loop counter and loop till the counter runs out.\n",
    "\n",
    "In python for loops are for each loops, which means the loop runs over every element in an iterable or a container."
   ]
  },
  {
   "cell_type": "code",
   "execution_count": 140,
   "id": "a01267d1",
   "metadata": {},
   "outputs": [
    {
     "name": "stdout",
     "output_type": "stream",
     "text": [
      "0\n",
      "1\n",
      "2\n",
      "3\n",
      "4\n",
      "5\n"
     ]
    }
   ],
   "source": [
    "# Standard python for loop.\n",
    "\n",
    "# The range() function is a contrainer, it looks like [0,1,2,3,4,5]\n",
    "for number in range(6):\n",
    "    print(number)"
   ]
  },
  {
   "cell_type": "markdown",
   "id": "808a0985",
   "metadata": {},
   "source": [
    "### Iterating over containers. "
   ]
  },
  {
   "cell_type": "code",
   "execution_count": 143,
   "id": "bdf5bc5e",
   "metadata": {},
   "outputs": [
    {
     "data": {
      "text/plain": [
       "[1, 0.5, 'Hello', [1, 2, 3]]"
      ]
     },
     "execution_count": 143,
     "metadata": {},
     "output_type": "execute_result"
    }
   ],
   "source": [
    "list_b"
   ]
  },
  {
   "cell_type": "code",
   "execution_count": 142,
   "id": "4d1d0ec9",
   "metadata": {},
   "outputs": [
    {
     "name": "stdout",
     "output_type": "stream",
     "text": [
      "1\n",
      "0.5\n",
      "Hello\n",
      "[1, 2, 3]\n"
     ]
    }
   ],
   "source": [
    "#For loops iterate\n",
    "# This is the pythonic way to do it.\n",
    "\n",
    "for item in list_b:\n",
    "    print(item)"
   ]
  },
  {
   "cell_type": "code",
   "execution_count": 144,
   "id": "aee36dfc",
   "metadata": {},
   "outputs": [
    {
     "name": "stdout",
     "output_type": "stream",
     "text": [
      "1\n",
      "0.5\n",
      "Hello\n",
      "[1, 2, 3]\n"
     ]
    }
   ],
   "source": [
    "# Don't do this! This is ugly.\n",
    "# This is how those who come from C do it, this is unpythonic.\n",
    "\n",
    "for index in range(len(list_b)):\n",
    "    print(list_b[index])"
   ]
  },
  {
   "cell_type": "code",
   "execution_count": 148,
   "id": "c62b1299",
   "metadata": {},
   "outputs": [
    {
     "name": "stdout",
     "output_type": "stream",
     "text": [
      "index = 0, item = 1\n",
      "index = 1, item = 0.5\n",
      "index = 2, item = Hello\n",
      "index = 3, item = [1, 2, 3]\n"
     ]
    }
   ],
   "source": [
    "# If you absolutely need the index, do this.\n",
    "\n",
    "for index,item in enumerate(list_b):\n",
    "    print(f'index = {index}, item = {item}')"
   ]
  },
  {
   "cell_type": "markdown",
   "id": "650fec7d",
   "metadata": {},
   "source": [
    "____________________________________________________________________________"
   ]
  },
  {
   "cell_type": "markdown",
   "id": "669d40fb",
   "metadata": {},
   "source": [
    "# Structure"
   ]
  },
  {
   "cell_type": "markdown",
   "id": "78018d8c",
   "metadata": {},
   "source": [
    "Your code will get extremely unweidly very quickly if you just write line by line using primitives, so we can use functions and classes to factorize our code.\n",
    "\n",
    "Factorizing code is called refactoring. It is the same idea as factorizing a mathmatical expression."
   ]
  },
  {
   "cell_type": "markdown",
   "id": "35c531b7",
   "metadata": {},
   "source": [
    "## Functions\n",
    "\n"
   ]
  },
  {
   "cell_type": "markdown",
   "id": "8d1bd3e1",
   "metadata": {},
   "source": [
    "For not reapeating code over and over again."
   ]
  },
  {
   "cell_type": "code",
   "execution_count": 152,
   "id": "1d48e6ac",
   "metadata": {},
   "outputs": [
    {
     "name": "stdout",
     "output_type": "stream",
     "text": [
      "A\n",
      "B\n",
      "C\n",
      "D\n",
      "E\n",
      "F\n",
      "G\n"
     ]
    }
   ],
   "source": [
    "# Argument less function\n",
    "def print_letters():\n",
    "    for letter in \"ABCDEFG\":\n",
    "        print(letter)\n",
    "        \n",
    "print_letters()"
   ]
  },
  {
   "cell_type": "code",
   "execution_count": 154,
   "id": "cee53955",
   "metadata": {},
   "outputs": [
    {
     "data": {
      "text/plain": [
       "3.145"
      ]
     },
     "execution_count": 154,
     "metadata": {},
     "output_type": "execute_result"
    }
   ],
   "source": [
    "# Functions with argument\n",
    "def area_of_circle(radius):\n",
    "    return 3.145*((radius)**2)\n",
    "\n",
    "area_of_circle(1)"
   ]
  },
  {
   "cell_type": "markdown",
   "id": "edae0701",
   "metadata": {},
   "source": [
    "## Classes"
   ]
  },
  {
   "cell_type": "markdown",
   "id": "029d0dcc",
   "metadata": {},
   "source": [
    "Classes are a step above functions, they are objects that have attributes and functions, this makes your code even cleaner than just using functions could."
   ]
  },
  {
   "cell_type": "code",
   "execution_count": 164,
   "id": "78d71c63",
   "metadata": {},
   "outputs": [],
   "source": [
    "# Basic class definition.\n",
    "class Square:\n",
    "    def __init__(self,breadth,width):\n",
    "        self.breadth = breadth\n",
    "        self.width = width\n",
    "        \n",
    "    def area(self):\n",
    "        return self.width * self.breadth\n",
    "    \n",
    "    def perimeter(self):\n",
    "        return 2*(self.width) + 2*(self.breadth)"
   ]
  },
  {
   "cell_type": "code",
   "execution_count": 165,
   "id": "a5beec5e",
   "metadata": {},
   "outputs": [],
   "source": [
    "my_square = Square(2,4)"
   ]
  },
  {
   "cell_type": "code",
   "execution_count": 166,
   "id": "eea7ab28",
   "metadata": {},
   "outputs": [
    {
     "data": {
      "text/plain": [
       "2"
      ]
     },
     "execution_count": 166,
     "metadata": {},
     "output_type": "execute_result"
    }
   ],
   "source": [
    "my_square.breadth"
   ]
  },
  {
   "cell_type": "code",
   "execution_count": 167,
   "id": "3f22e4e5",
   "metadata": {},
   "outputs": [
    {
     "data": {
      "text/plain": [
       "4"
      ]
     },
     "execution_count": 167,
     "metadata": {},
     "output_type": "execute_result"
    }
   ],
   "source": [
    "my_square.width"
   ]
  },
  {
   "cell_type": "code",
   "execution_count": 168,
   "id": "09d831bc",
   "metadata": {},
   "outputs": [
    {
     "data": {
      "text/plain": [
       "8"
      ]
     },
     "execution_count": 168,
     "metadata": {},
     "output_type": "execute_result"
    }
   ],
   "source": [
    "my_square.area()"
   ]
  },
  {
   "cell_type": "code",
   "execution_count": 169,
   "id": "3deba2a6",
   "metadata": {},
   "outputs": [
    {
     "data": {
      "text/plain": [
       "12"
      ]
     },
     "execution_count": 169,
     "metadata": {},
     "output_type": "execute_result"
    }
   ],
   "source": [
    "my_square.perimeter()"
   ]
  },
  {
   "cell_type": "markdown",
   "id": "cf7e963a",
   "metadata": {},
   "source": [
    "_______________________________________________________________________________"
   ]
  },
  {
   "cell_type": "markdown",
   "id": "0904c37d",
   "metadata": {},
   "source": [
    "# Thank You! Any questions?"
   ]
  }
 ],
 "metadata": {
  "kernelspec": {
   "display_name": "Python 3",
   "language": "python",
   "name": "python3"
  },
  "language_info": {
   "codemirror_mode": {
    "name": "ipython",
    "version": 3
   },
   "file_extension": ".py",
   "mimetype": "text/x-python",
   "name": "python",
   "nbconvert_exporter": "python",
   "pygments_lexer": "ipython3",
   "version": "3.8.5"
  }
 },
 "nbformat": 4,
 "nbformat_minor": 5
}
